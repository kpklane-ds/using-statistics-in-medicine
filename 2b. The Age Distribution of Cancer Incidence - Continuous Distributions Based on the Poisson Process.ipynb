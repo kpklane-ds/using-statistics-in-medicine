{
 "cells": [
  {
   "cell_type": "markdown",
   "metadata": {
    "id": "B_k-77fEE-k4"
   },
   "source": [
    "## Week 4: The Age Distribution of Cancer Incidence -\n",
    "## Continuous Distributions Based on the Poisson Process\n",
    "\n",
    "Kyle P. Rasku MS RN BSN\n",
    "\n",
    "References:\n",
    "\n",
    "Belikov, A. V., Vyatkin, A., & Leonov, S. V. (2021). The Erlang distribution approximates the age distribution of incidence of childhood and young adulthood cancers. PeerJ, 9, e11976. https://doi.org/10.7717/peerj.11976\n",
    "\n",
    "Maslov, S. & Jensen, P. (2017).  BIOE-582, Statistics and Algorithms in Genomic Biology; Lecture 11: Poisson Process Continuous Probability Distributions [PPT Slides]. Department of Bioengineering, University of Illinois at Urbana-Champaign. https://courses.engr.illinois.edu/bioe582/fa2017/Lecture_11_Poisson_Process_Exponential_Erlang_Gamma_Distributions.pdf"
   ]
  },
  {
   "cell_type": "code",
   "execution_count": 1,
   "metadata": {
    "executionInfo": {
     "elapsed": 6798,
     "status": "ok",
     "timestamp": 1697827230238,
     "user": {
      "displayName": "Kylie Rasku",
      "userId": "06957673124617695133"
     },
     "user_tz": 240
    },
    "id": "qycbUmAJoebG"
   },
   "outputs": [],
   "source": [
    "!pip install -U -q PyDrive\n",
    "from pydrive.auth import GoogleAuth\n",
    "from pydrive.drive import GoogleDrive\n",
    "from google.colab import auth\n",
    "from oauth2client.client import GoogleCredentials"
   ]
  },
  {
   "cell_type": "code",
   "execution_count": 2,
   "metadata": {
    "executionInfo": {
     "elapsed": 943,
     "status": "ok",
     "timestamp": 1697827231179,
     "user": {
      "displayName": "Kylie Rasku",
      "userId": "06957673124617695133"
     },
     "user_tz": 240
    },
    "id": "4X_WziBJoxWu"
   },
   "outputs": [],
   "source": [
    "auth.authenticate_user()\n",
    "gauth = GoogleAuth()\n",
    "gauth.credentials = GoogleCredentials.get_application_default()\n",
    "drive = GoogleDrive(gauth)"
   ]
  },
  {
   "cell_type": "code",
   "execution_count": 6,
   "metadata": {
    "colab": {
     "base_uri": "https://localhost:8080/"
    },
    "executionInfo": {
     "elapsed": 3097,
     "status": "ok",
     "timestamp": 1697827398648,
     "user": {
      "displayName": "Kylie Rasku",
      "userId": "06957673124617695133"
     },
     "user_tz": 240
    },
    "id": "o0-XZSbEqvNe",
    "outputId": "e8947176-1e10-49b1-99b6-1910158d02fe"
   },
   "outputs": [
    {
     "name": "stdout",
     "output_type": "stream",
     "text": [
      "Drive already mounted at /content/drive; to attempt to forcibly remount, call drive.mount(\"/content/drive\", force_remount=True).\n",
      "MyDrive\n"
     ]
    }
   ],
   "source": [
    "from google.colab import drive\n",
    "import os\n",
    "\n",
    "drive.mount('/content/drive')\n",
    "os.chdir('/content/drive')\n",
    "!ls"
   ]
  },
  {
   "cell_type": "markdown",
   "metadata": {
    "id": "2heHbrR34ZjX"
   },
   "source": [
    "### Continuous Probability Distributions: Exponential, Erlang & Gamma\n",
    "\n",
    "#### **Related: The Poisson Process**\n",
    "\n",
    "A series of discrete events happen over a period of time (t), at a rate defined by the variable lambda (λ).  The actual # of events (Nx) is a Poisson-distributed discrete random variable with mean λx:\n",
    "\n",
    "PN(Nx=n)=exp(-λx)(λx)n/n!     E(Nx)= λx\n",
    "\n",
    "#### **Why a Discrete Poisson Distribution?**  \n",
    "- First, divide time into many tiny intervals of length x(0) << 1/λ\n",
    "- The probability of an event per interval is small: p = λ∙Δx << 1,\n",
    "- While the number of intervals is large: L= x/ Δx >> 1,\n",
    "- And the mean is constant: E(Nx)=p ∙ L= (λΔx) ∙(x/Δx) = λ∙x\n",
    "- P(Nx=n)=L!/n!(L-n)! p^n (1-p)^L-n\n",
    "- In the limit p -> 0, L -> ∞: Binomial distribution -> Poisson\n",
    "\n",
    "#### **What is the distribution of the interval X between consecutive events of a constant rate (Poisson) process?**\n",
    "\n",
    "- Where X is a continuous random variable, the CCDF (Cumulative Distribution Function (1)): Prob(X>x) = Prob(NX=0) = exp(-λx).\n",
    "- And, the PDF (2): f(x)=-d CCDF(x)/dx = λexp(-λx)\n",
    "- We started with a discrete Poisson distribution where time, x was a parameter and Nx was the # of events (a discrete random variable)\n",
    "- We ended up with a **continuous exponential distribution** where time X between events was a **continuous random variable**\n",
    "\n",
    "#### **The mean and variance of the Exponential and Poisson distributions**\n",
    "\n",
    "If the random variable X has an exponential distribution with parameter λ:\n",
    "\n",
    "- mean μ = E(X) = 1/λ\n",
    "- variance σ^2 = V(X) = 1/λ^2\n",
    "\n",
    "For the Poisson distribution, mean μ = variance σ^2\n",
    "\n",
    "For the Exponential distribution, mean μ = standard deviation σ\n",
    "\n",
    "The continuous Exponential probability distribution is a continuous generalization of the discrete Geometric probability distribution.\n",
    "\n",
    "The Exponential distribution and its variants are used in a variety of real-life models, including:\n",
    "\n",
    "- The probability of component failure\n",
    "- Likelihood of medical device failure\n",
    "- Wait time predictions\n",
    "\n",
    "#### **Exponential Variants: the Erlang & Gamma distributions**\n",
    "\n",
    "##### *The Erlang Distribution*\n",
    "The Erlang distribution is a generalization of the Exponential distribution where the Exponential distribution models the continuous time interval to the 1st event, and the Erlang distribution models the continuous time interval to the rth event - a sum of r exponentially-distributed variables!\n",
    "\n",
    "The Erlang distribution is a continuous generalization of the discrete Negative Binomial distribution.\n",
    "\n",
    "###### *The Gamma Distribution*\n",
    "The gamma function is the generalization of the factorial function for r > 0, not just non-negative integers.\n",
    "\n",
    "Γ(r) = ∫0->∞ x^r-1 . e^-x dx for r > 0\n",
    "\n",
    "###### *Properties of the Gamma Distribution:*\n",
    "- Recursive property: Γ(r) = (r-1) . Γ(r-1)\n",
    "- Factorial function: Γ(r) = (r-1)!\n",
    "- Therefore: Γ(1) = 0! = 1\n",
    "- Interesting derivations:\n",
    "  - Γ(1/2) = π^1/2 = 1.77\n",
    "  - Γ(3/2) = 1/2Γ(1/2) = 0.89\n",
    "  - 1/2! = √π/2\n",
    "\n",
    "\n",
    "(1) For more on Cumulative Distribution Functions: https://statisticsbyjim.com/graphs/empirical-cumulative-distribution-function-cdf-plots/\n",
    "\n",
    "(2) For more on the Probability Density Function: https://statisticsbyjim.com/probability/probability-density-function/"
   ]
  },
  {
   "cell_type": "code",
   "execution_count": 1,
   "metadata": {
    "colab": {
     "base_uri": "https://localhost:8080/",
     "height": 430
    },
    "executionInfo": {
     "elapsed": 527,
     "status": "ok",
     "timestamp": 1697827233770,
     "user": {
      "displayName": "Kylie Rasku",
      "userId": "06957673124617695133"
     },
     "user_tz": 240
    },
    "id": "09BguQfvFJX6",
    "outputId": "0235d3b7-b5ba-4a3c-f707-f77aa8b2800c"
   },
   "outputs": [
    {
     "data": {
      "image/png": "[encoded data removed]",
      "text/plain": [
       "<Figure size 640x480 with 1 Axes>"
      ]
     },
     "metadata": {},
     "output_type": "display_data"
    }
   ],
   "source": [
    "import numpy as np\n",
    "import scipy.stats as stats\n",
    "import matplotlib.pyplot as plt\n",
    "\n",
    "#define x-axis values\n",
    "x = np.linspace (0, 40, 100)\n",
    "\n",
    "#calculate pdf of Erlang distribution for each x-value\n",
    "y = stats.erlang.pdf(x, a=5, scale=3)\n",
    "\n",
    "#create plot of Gamma distribution\n",
    "plt.plot(x, y)\n",
    "\n",
    "#display plot\n",
    "plt.show()"
   ]
  },
  {
   "cell_type": "markdown",
   "metadata": {
    "id": "Ya4pdZjYAEih"
   },
   "source": [
    "Above: A simple plot of an Erlang Distribution with scale (1/λ) = 3"
   ]
  },
  {
   "cell_type": "markdown",
   "metadata": {
    "id": "5E0uQ9wbALYr"
   },
   "source": [
    "### Gamma, Erlang, Exponential & Poisson\n",
    "\n",
    "The Poisson distribution is used to model the probability of a specific number of events occurring within a fixed time interval.\n",
    "\n",
    "The exponential distribution is for modeling the wait time until a *first* event.\n",
    "\n",
    "The gamma and erlang distributions? For modeling the wait time until the *k-th* event.\n",
    "\n",
    "So, if we would use Poisson regression to predict the # of customers who will buy something today, we would use an exponential model to predict the amount of time before the first customer buys, and a gamma or erlang model to predict the amount of time before the k-th customer buys.\n",
    "\n",
    "In healthcare, the Erlang and Gamma distributions are often useful for:\n",
    "\n",
    "- Cost modeling (avg. dollars spent per beneficiary)\n",
    "- Modeling the length of stay\n",
    "- Modeling absenteeism\n",
    "- Modeling wait times to procedure / operation\n",
    "- Modeling wait times to discharge\n",
    "- Modeling the time to disease\n",
    "\n",
    "### Parameters\n",
    "\n",
    "The Gamma and Erlang distributions have three parameters: the shape (k or a > 0), the scale (theta or θ), and the rate (beta or β) which is equal to 1/θ.\n",
    "\n",
    "### How do I know if my data is Erlang or Gamma distributed?\n",
    "\n",
    "We can't know the distribution of data just by looking at it.  We might often believe some data is normally distributed (or close enough) by looking at a histogram, but we could be wrong!  That's the reason for Tests of Normality*.  It is best to **test** the distribution of the outcome variable (unless of course it is binary, then we know the outcome distribution is Binomial).\n",
    "\n",
    "*More on Tests of Normality:\n",
    "\n",
    "https://statisticsbyjim.com/basics/assessing-normality-histograms-probability-plots/\n",
    "\n",
    "https://journals.tubitak.gov.tr/medical/vol36/iss3/7/"
   ]
  },
  {
   "cell_type": "markdown",
   "metadata": {
    "id": "kpIUmdB4LE6_"
   },
   "source": [
    "## Belikov, Vyatkin, & Leonov: The Erlang distribution approximates the age distribution of incidence of childhood and young adulthood cancers\n",
    "\n",
    "In their August 6, 2021 publication, three scientists from the Laboratory of Innovative Medicine, School of Biological and Medical Physics, Moscow Institute of Physics and Technology, Moscow, Russia, used the CDC WONDER data to show that the Erlang distribution is the only classical probability distribution that can adequately model the age distribution of incidence for all\n",
    "studied childhood and young adulthood cancers, in addition to cancers of old age.\n",
    "\n",
    "To determine this, Belikov & Vyatkin created python code that tested the data for conformance to many distributions.  In their documentation, they state that it took 6 hours for this distribution-fitting code to run on a typical CPU!\n",
    "\n",
    "https://pubmed.ncbi.nlm.nih.gov/34434669/\n",
    "\n",
    "https://github.com/belikov-av/childhoodcancers"
   ]
  },
  {
   "cell_type": "code",
   "execution_count": 7,
   "metadata": {
    "colab": {
     "base_uri": "https://localhost:8080/",
     "height": 387
    },
    "executionInfo": {
     "elapsed": 301,
     "status": "error",
     "timestamp": 1697827552424,
     "user": {
      "displayName": "Kylie Rasku",
      "userId": "06957673124617695133"
     },
     "user_tz": 240
    },
    "id": "nFDAXg8HMaCm",
    "outputId": "7d86e008-beef-4eab-9117-e5834856755c"
   },
   "outputs": [
    {
     "data": {
      "text/html": [
       "<div>\n",
       "<style scoped>\n",
       "    .dataframe tbody tr th:only-of-type {\n",
       "        vertical-align: middle;\n",
       "    }\n",
       "\n",
       "    .dataframe tbody tr th {\n",
       "        vertical-align: top;\n",
       "    }\n",
       "\n",
       "    .dataframe thead th {\n",
       "        text-align: right;\n",
       "    }\n",
       "</style>\n",
       "<table border=\"1\" class=\"dataframe\">\n",
       "  <thead>\n",
       "    <tr style=\"text-align: right;\">\n",
       "      <th></th>\n",
       "      <th>Age, years</th>\n",
       "      <th>Ewing tumor</th>\n",
       "      <th>Extracranial &amp; extragonadal germ cell 1</th>\n",
       "      <th>Extracranial &amp; extragonadal germ cell 2</th>\n",
       "      <th>Hepatoblastoma</th>\n",
       "      <th>Intracranial &amp; intraspinal embryonal</th>\n",
       "      <th>Intracranial &amp; intraspinal germ cell</th>\n",
       "      <th>Malignant gonadal germ cell</th>\n",
       "      <th>Nephroblastoma</th>\n",
       "      <th>Neuroblastoma</th>\n",
       "      <th>Retinoblastoma</th>\n",
       "    </tr>\n",
       "  </thead>\n",
       "  <tbody>\n",
       "    <tr>\n",
       "      <th>0</th>\n",
       "      <td>0.5</td>\n",
       "      <td>0.290000</td>\n",
       "      <td>12.640000</td>\n",
       "      <td>NaN</td>\n",
       "      <td>10.790000</td>\n",
       "      <td>11.190000</td>\n",
       "      <td>NaN</td>\n",
       "      <td>NaN</td>\n",
       "      <td>16.070000</td>\n",
       "      <td>58.490000</td>\n",
       "      <td>28.380000</td>\n",
       "    </tr>\n",
       "    <tr>\n",
       "      <th>1</th>\n",
       "      <td>3.0</td>\n",
       "      <td>0.979996</td>\n",
       "      <td>1.489990</td>\n",
       "      <td>NaN</td>\n",
       "      <td>4.880005</td>\n",
       "      <td>10.830080</td>\n",
       "      <td>0.250000</td>\n",
       "      <td>NaN</td>\n",
       "      <td>19.919920</td>\n",
       "      <td>21.470210</td>\n",
       "      <td>8.579956</td>\n",
       "    </tr>\n",
       "    <tr>\n",
       "      <th>2</th>\n",
       "      <td>7.5</td>\n",
       "      <td>2.169983</td>\n",
       "      <td>0.130001</td>\n",
       "      <td>0.130001</td>\n",
       "      <td>0.330002</td>\n",
       "      <td>7.479980</td>\n",
       "      <td>1.100006</td>\n",
       "      <td>1.08</td>\n",
       "      <td>5.099976</td>\n",
       "      <td>3.469971</td>\n",
       "      <td>0.470001</td>\n",
       "    </tr>\n",
       "    <tr>\n",
       "      <th>3</th>\n",
       "      <td>12.5</td>\n",
       "      <td>4.250000</td>\n",
       "      <td>NaN</td>\n",
       "      <td>0.330002</td>\n",
       "      <td>0.180000</td>\n",
       "      <td>4.239990</td>\n",
       "      <td>2.520020</td>\n",
       "      <td>3.62</td>\n",
       "      <td>0.699997</td>\n",
       "      <td>1.049988</td>\n",
       "      <td>NaN</td>\n",
       "    </tr>\n",
       "    <tr>\n",
       "      <th>4</th>\n",
       "      <td>17.5</td>\n",
       "      <td>4.290039</td>\n",
       "      <td>NaN</td>\n",
       "      <td>1.709991</td>\n",
       "      <td>NaN</td>\n",
       "      <td>2.869995</td>\n",
       "      <td>2.289978</td>\n",
       "      <td>21.53</td>\n",
       "      <td>0.349998</td>\n",
       "      <td>0.410004</td>\n",
       "      <td>NaN</td>\n",
       "    </tr>\n",
       "  </tbody>\n",
       "</table>\n",
       "</div>"
      ],
      "text/plain": [
       "   Age, years  Ewing tumor  Extracranial & extragonadal germ cell 1  \\\n",
       "0         0.5     0.290000                                12.640000   \n",
       "1         3.0     0.979996                                 1.489990   \n",
       "2         7.5     2.169983                                 0.130001   \n",
       "3        12.5     4.250000                                      NaN   \n",
       "4        17.5     4.290039                                      NaN   \n",
       "\n",
       "   Extracranial & extragonadal germ cell 2  Hepatoblastoma  \\\n",
       "0                                      NaN       10.790000   \n",
       "1                                      NaN        4.880005   \n",
       "2                                 0.130001        0.330002   \n",
       "3                                 0.330002        0.180000   \n",
       "4                                 1.709991             NaN   \n",
       "\n",
       "   Intracranial & intraspinal embryonal  Intracranial & intraspinal germ cell  \\\n",
       "0                             11.190000                                   NaN   \n",
       "1                             10.830080                              0.250000   \n",
       "2                              7.479980                              1.100006   \n",
       "3                              4.239990                              2.520020   \n",
       "4                              2.869995                              2.289978   \n",
       "\n",
       "   Malignant gonadal germ cell  Nephroblastoma  Neuroblastoma  Retinoblastoma  \n",
       "0                          NaN       16.070000      58.490000       28.380000  \n",
       "1                          NaN       19.919920      21.470210        8.579956  \n",
       "2                         1.08        5.099976       3.469971        0.470001  \n",
       "3                         3.62        0.699997       1.049988             NaN  \n",
       "4                        21.53        0.349998       0.410004             NaN  "
      ]
     },
     "execution_count": 7,
     "metadata": {},
     "output_type": "execute_result"
    }
   ],
   "source": [
    "import pandas as pd\n",
    "\n",
    "cancer_ds = pd.read_excel('data/Childhood Incidence Data.xlsx', engine='openpyxl')\n",
    "cancer_ds.head()"
   ]
  },
  {
   "cell_type": "markdown",
   "metadata": {},
   "source": [
    "\"In fact, the Erlang distribution is the **distribution of a sum of independent exponential variables**, whereas the exponential distribution is the probability distribution of the time between events in a Poisson point process, i.e., a process in which events occur continuously and independently at a constant average rate (Birnbaum, 1954). \n",
    "\n",
    "**This allowed us to estimate the number of driver events, the average time interval between them and the maximal populational susceptibility, for each cancer type. The results showed high heterogeneity in all three parameters amongst the cancer types but high reproducibility between the years of observation.**\" - Belikov, Vyatkin & Leonov (2021)"
   ]
  },
  {
   "cell_type": "code",
   "execution_count": null,
   "metadata": {},
   "outputs": [],
   "source": []
  }
 ],
 "metadata": {
  "colab": {
   "authorship_tag": "ABX9TyNU4/E2iS6SJL4x54IUDils",
   "provenance": []
  },
  "kernelspec": {
   "display_name": "Python 3 (ipykernel)",
   "language": "python",
   "name": "python3"
  },
  "language_info": {
   "codemirror_mode": {
    "name": "ipython",
    "version": 3
   },
   "file_extension": ".py",
   "mimetype": "text/x-python",
   "name": "python",
   "nbconvert_exporter": "python",
   "pygments_lexer": "ipython3",
   "version": "3.9.17"
  }
 },
 "nbformat": 4,
 "nbformat_minor": 1
}
