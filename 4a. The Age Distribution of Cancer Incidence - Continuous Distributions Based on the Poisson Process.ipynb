{
 "cells": [
  {
   "cell_type": "markdown",
   "metadata": {
    "id": "B_k-77fEE-k4"
   },
   "source": [
    "## Week 4: The Age Distribution of Cancer Incidence -\n",
    "## Continuous Distributions Based on the Poisson Process\n",
    "\n",
    "References:\n",
    "\n",
    "Belikov, A. V., Vyatkin, A., & Leonov, S. V. (2021). The Erlang distribution approximates the age distribution of incidence of childhood and young adulthood cancers. PeerJ, 9, e11976. https://doi.org/10.7717/peerj.11976\n",
    "\n",
    "Maslov, S. & Jensen, P. (2017).  BIOE-582, Statistics and Algorithms in Genomic Biology; Lecture 11: Poisson Process Continuous Probability Distributions [PPT Slides]. Department of Bioengineering, University of Illinois at Urbana-Champaign. https://courses.engr.illinois.edu/bioe582/fa2017/Lecture_11_Poisson_Process_Exponential_Erlang_Gamma_Distributions.pdf"
   ]
  },
  {
   "cell_type": "code",
   "execution_count": 4,
   "metadata": {
    "colab": {
     "base_uri": "https://localhost:8080/"
    },
    "executionInfo": {
     "elapsed": 8637,
     "status": "ok",
     "timestamp": 1710375831039,
     "user": {
      "displayName": "Kyle Rasku",
      "userId": "06957673124617695133"
     },
     "user_tz": 240
    },
    "id": "qycbUmAJoebG",
    "outputId": "c68b3c57-4387-4165-efec-cede7c26348b"
   },
   "outputs": [
    {
     "name": "stderr",
     "output_type": "stream",
     "text": [
      "WARNING:root:pydrive is deprecated and no longer maintained. We recommend that you migrate your projects to pydrive2, the maintained fork of pydrive\n"
     ]
    }
   ],
   "source": [
    "!pip install -U -q PyDrive\n",
    "from pydrive.auth import GoogleAuth\n",
    "from pydrive.drive import GoogleDrive\n",
    "from google.colab import auth\n",
    "from oauth2client.client import GoogleCredentials"
   ]
  },
  {
   "cell_type": "code",
   "execution_count": 5,
   "metadata": {
    "executionInfo": {
     "elapsed": 21323,
     "status": "ok",
     "timestamp": 1710375853566,
     "user": {
      "displayName": "Kyle Rasku",
      "userId": "06957673124617695133"
     },
     "user_tz": 240
    },
    "id": "4X_WziBJoxWu"
   },
   "outputs": [],
   "source": [
    "auth.authenticate_user()\n",
    "gauth = GoogleAuth()\n",
    "gauth.credentials = GoogleCredentials.get_application_default()\n",
    "drive = GoogleDrive(gauth)"
   ]
  },
  {
   "cell_type": "code",
   "execution_count": 6,
   "metadata": {
    "colab": {
     "base_uri": "https://localhost:8080/"
    },
    "executionInfo": {
     "elapsed": 19535,
     "status": "ok",
     "timestamp": 1710375875847,
     "user": {
      "displayName": "Kyle Rasku",
      "userId": "06957673124617695133"
     },
     "user_tz": 240
    },
    "id": "o0-XZSbEqvNe",
    "outputId": "99c7c833-762d-43b3-979e-371f02a23e2d"
   },
   "outputs": [
    {
     "name": "stdout",
     "output_type": "stream",
     "text": [
      "Mounted at /content/drive\n",
      "MyDrive\n"
     ]
    }
   ],
   "source": [
    "from google.colab import drive\n",
    "import os\n",
    "\n",
    "drive.mount('/content/drive')\n",
    "os.chdir('/content/drive')\n",
    "!ls"
   ]
  },
  {
   "cell_type": "markdown",
   "metadata": {
    "id": "2heHbrR34ZjX"
   },
   "source": [
    "### Continuous Probability Distributions: Exponential, Erlang & Gamma\n",
    "\n",
    "#### **Related: The Poisson Process**\n",
    "\n",
    "A series of discrete events happen over a period of time (t), at a rate defined by the variable lambda (λ).  The actual # of events (Nx) is a Poisson-distributed discrete random variable with mean λx:\n",
    "\n",
    "PN(Nx=n)=exp(-λx)(λx)n/n!     E(Nx)= λx\n",
    "\n",
    "#### **Why a Discrete Poisson Distribution?**  \n",
    "- First, divide time into many tiny intervals of length x(0) << 1/λ\n",
    "- The probability of an event per interval is small: p = λ∙Δx << 1,\n",
    "- While the number of intervals is large: L= x/ Δx >> 1,\n",
    "- And the mean is constant: E(Nx)=p ∙ L= (λΔx) ∙(x/Δx) = λ∙x\n",
    "- P(Nx=n)=L!/n!(L-n)! p^n (1-p)^L-n\n",
    "- In the limit p -> 0, L -> ∞: Binomial distribution -> Poisson\n",
    "\n",
    "#### **What is the distribution of the interval X between consecutive events of a constant rate (Poisson) process?**\n",
    "\n",
    "- Where X is a continuous random variable, the CCDF (Cumulative Distribution Function (1)): Prob(X>x) = Prob(NX=0) = exp(-λx).\n",
    "- And, the PDF (2): f(x)=-d CCDF(x)/dx = λexp(-λx)\n",
    "- We started with a discrete Poisson distribution where time, x was a parameter and Nx was the # of events (a discrete random variable)\n",
    "- We ended up with a **continuous exponential distribution** where time X between events was a **continuous random variable**\n",
    "\n",
    "#### **The mean and variance of the Exponential and Poisson distributions**\n",
    "\n",
    "If the random variable X has an exponential distribution with parameter λ:\n",
    "\n",
    "- mean μ = E(X) = 1/λ\n",
    "- variance σ^2 = V(X) = 1/λ^2\n",
    "\n",
    "For the Poisson distribution, mean μ = variance σ^2\n",
    "\n",
    "For the Exponential distribution, mean μ = standard deviation σ\n",
    "\n",
    "The continuous Exponential probability distribution is a continuous generalization of the discrete Geometric probability distribution.\n",
    "\n",
    "The Exponential distribution and its variants are used in a variety of real-life models, including:\n",
    "\n",
    "- The probability of component failure\n",
    "- Likelihood of medical device failure\n",
    "- Wait time predictions\n",
    "\n",
    "#### **Exponential Variants: the Erlang & Gamma distributions**\n",
    "\n",
    "##### *The Erlang Distribution*\n",
    "The Erlang distribution is a generalization of the Exponential distribution where the Exponential distribution models the continuous time interval to the 1st event, and the Erlang distribution models the continuous time interval to the rth event - a sum of r exponentially-distributed variables!\n",
    "\n",
    "The Erlang distribution is a continuous generalization of the discrete Negative Binomial distribution.\n",
    "\n",
    "###### *The Gamma Distribution*\n",
    "The gamma function is the generalization of the factorial function for r > 0, not just non-negative integers.\n",
    "\n",
    "Γ(r) = ∫0->∞ x^r-1 . e^-x dx for r > 0\n",
    "\n",
    "###### *Properties of the Gamma Distribution:*\n",
    "- Recursive property: Γ(r) = (r-1) . Γ(r-1)\n",
    "- Factorial function: Γ(r) = (r-1)!\n",
    "- Therefore: Γ(1) = 0! = 1\n",
    "- Interesting derivations:\n",
    "  - Γ(1/2) = π^1/2 = 1.77\n",
    "  - Γ(3/2) = 1/2Γ(1/2) = 0.89\n",
    "  - 1/2! = √π/2\n",
    "\n",
    "\n",
    "(1) For more on Cumulative Distribution Functions: https://statisticsbyjim.com/graphs/empirical-cumulative-distribution-function-cdf-plots/\n",
    "\n",
    "(2) For more on the Probability Density Function: https://statisticsbyjim.com/probability/probability-density-function/"
   ]
  },
  {
   "cell_type": "code",
   "execution_count": 7,
   "metadata": {
    "colab": {
     "base_uri": "https://localhost:8080/",
     "height": 430
    },
    "executionInfo": {
     "elapsed": 1389,
     "status": "ok",
     "timestamp": 1710375884991,
     "user": {
      "displayName": "Kyle Rasku",
      "userId": "06957673124617695133"
     },
     "user_tz": 240
    },
    "id": "09BguQfvFJX6",
    "outputId": "3a3fc0b4-2de0-4e4d-c58d-f818a51f5c32"
   },
   "outputs": [
    {
     "data": {
      "image/png": "[encoded data removed]",
      "text/plain": [
       "<Figure size 640x480 with 1 Axes>"
      ]
     },
     "metadata": {},
     "output_type": "display_data"
    }
   ],
   "source": [
    "import numpy as np\n",
    "import scipy.stats as stats\n",
    "import matplotlib.pyplot as plt\n",
    "\n",
    "#define x-axis values\n",
    "x = np.linspace (0, 40, 100)\n",
    "\n",
    "#calculate pdf of Erlang distribution for each x-value\n",
    "y = stats.erlang.pdf(x, a=5, scale=3)\n",
    "\n",
    "#create plot of Gamma distribution\n",
    "plt.plot(x, y)\n",
    "\n",
    "#display plot\n",
    "plt.show()"
   ]
  },
  {
   "cell_type": "markdown",
   "metadata": {
    "id": "Ya4pdZjYAEih"
   },
   "source": [
    "Above: A simple plot of an Erlang Distribution with scale (1/λ) = 3"
   ]
  },
  {
   "cell_type": "markdown",
   "metadata": {
    "id": "5E0uQ9wbALYr"
   },
   "source": [
    "### Gamma, Erlang, Exponential & Poisson\n",
    "\n",
    "The Poisson distribution is used to model the probability of a specific number of events occurring within a fixed time interval.\n",
    "\n",
    "The exponential distribution is for modeling the wait time until a *first* event.\n",
    "\n",
    "The gamma and erlang distributions? For modeling the wait time until the *k-th* event.\n",
    "\n",
    "So, if we would use Poisson regression to predict the # of customers who will buy something today, we would use an exponential model to predict the amount of time before the first customer buys, and a gamma or erlang model to predict the amount of time before the k-th customer buys.\n",
    "\n",
    "In healthcare, the Erlang and Gamma distributions are often useful for:\n",
    "\n",
    "- Cost modeling (avg. dollars spent per beneficiary)\n",
    "- Modeling the length of stay\n",
    "- Modeling absenteeism\n",
    "- Modeling wait times to procedure / operation\n",
    "- Modeling wait times to discharge\n",
    "- Modeling the time to disease\n",
    "\n",
    "### Parameters\n",
    "\n",
    "The Gamma and Erlang distributions have three parameters: the shape (k or a > 0), the scale (theta or θ), and the rate (beta or β) which is equal to 1/θ.\n",
    "\n",
    "### How do I know if my data is Erlang or Gamma distributed?\n",
    "\n",
    "We can't know the distribution of data just by looking at it.  We might often believe some data is normally distributed (or close enough) by looking at a histogram, but we could be wrong!  That's the reason for Tests of Normality*.  It is best to **test** the distribution of the outcome variable (unless of course it is binary, then we know the outcome distribution is Binomial).\n",
    "\n",
    "*More on Tests of Normality:\n",
    "\n",
    "https://statisticsbyjim.com/basics/assessing-normality-histograms-probability-plots/\n",
    "\n",
    "https://journals.tubitak.gov.tr/medical/vol36/iss3/7/"
   ]
  },
  {
   "cell_type": "markdown",
   "metadata": {
    "id": "kpIUmdB4LE6_"
   },
   "source": [
    "## Belikov, Vyatkin, & Leonov: The Erlang distribution approximates the age distribution of incidence of childhood and young adulthood cancers\n",
    "\n",
    "In their August 6, 2021 publication, three scientists from the Laboratory of Innovative Medicine, School of Biological and Medical Physics, Moscow Institute of Physics and Technology, Moscow, Russia, used the CDC WONDER data to show that the Erlang distribution is the only classical probability distribution that can adequately model the age distribution of incidence for all\n",
    "studied childhood and young adulthood cancers, in addition to cancers of old age.\n",
    "\n",
    "To determine this, Belikov & Vyatkin created python code that tested the data for conformance to many distributions.  In their documentation, they state that it took 6 hours for this distribution-fitting code to run on a typical CPU!\n",
    "\n",
    "https://pubmed.ncbi.nlm.nih.gov/34434669/\n",
    "\n",
    "https://github.com/belikov-av/childhoodcancers"
   ]
  },
  {
   "cell_type": "code",
   "execution_count": 10,
   "metadata": {
    "colab": {
     "base_uri": "https://localhost:8080/",
     "height": 241
    },
    "executionInfo": {
     "elapsed": 1240,
     "status": "ok",
     "timestamp": 1710375962103,
     "user": {
      "displayName": "Kyle Rasku",
      "userId": "06957673124617695133"
     },
     "user_tz": 240
    },
    "id": "nFDAXg8HMaCm",
    "outputId": "97c7ef18-09e0-4a4d-c535-6e5742d7cc5e"
   },
   "outputs": [
    {
     "data": {
      "application/vnd.google.colaboratory.intrinsic+json": {
       "summary": "{\n  \"name\": \"cancer_ds\",\n  \"rows\": 18,\n  \"fields\": [\n    {\n      \"column\": \"Age, years\",\n      \"properties\": {\n        \"dtype\": \"number\",\n        \"std\": 26.377987084202978,\n        \"min\": 0.5,\n        \"max\": 82.5,\n        \"num_unique_values\": 18,\n        \"samples\": [\n          0.5,\n          3.0,\n          37.5\n        ],\n        \"semantic_type\": \"\",\n        \"description\": \"\"\n      }\n    },\n    {\n      \"column\": \"Ewing tumor\",\n      \"properties\": {\n        \"dtype\": \"number\",\n        \"std\": 1.3570102110965812,\n        \"min\": 0.1700001,\n        \"max\": 4.290039,\n        \"num_unique_values\": 16,\n        \"samples\": [\n          0.29,\n          0.9799957,\n          2.429993\n        ],\n        \"semantic_type\": \"\",\n        \"description\": \"\"\n      }\n    },\n    {\n      \"column\": \"Extracranial & extragonadal germ cell 1\",\n      \"properties\": {\n        \"dtype\": \"number\",\n        \"std\": 6.863822614333605,\n        \"min\": 0.1300011,\n        \"max\": 12.64,\n        \"num_unique_values\": 3,\n        \"samples\": [\n          12.64,\n          1.48999,\n          0.1300011\n        ],\n        \"semantic_type\": \"\",\n        \"description\": \"\"\n      }\n    },\n    {\n      \"column\": \"Extracranial & extragonadal germ cell 2\",\n      \"properties\": {\n        \"dtype\": \"number\",\n        \"std\": 1.2106492756157543,\n        \"min\": 0.1300011,\n        \"max\": 3.75,\n        \"num_unique_values\": 16,\n        \"samples\": [\n          0.1300011,\n          0.3300018,\n          3.22998\n        ],\n        \"semantic_type\": \"\",\n        \"description\": \"\"\n      }\n    },\n    {\n      \"column\": \"Hepatoblastoma\",\n      \"properties\": {\n        \"dtype\": \"number\",\n        \"std\": 4.997722569898404,\n        \"min\": 0.1800003,\n        \"max\": 10.79,\n        \"num_unique_values\": 4,\n        \"samples\": [\n          4.880005,\n          0.1800003,\n          10.79\n        ],\n        \"semantic_type\": \"\",\n        \"description\": \"\"\n      }\n    },\n    {\n      \"column\": \"Intracranial & intraspinal embryonal\",\n      \"properties\": {\n        \"dtype\": \"number\",\n        \"std\": 3.44543234770727,\n        \"min\": 0.5500031,\n        \"max\": 11.19,\n        \"num_unique_values\": 17,\n        \"samples\": [\n          11.19,\n          10.83008,\n          2.369995\n        ],\n        \"semantic_type\": \"\",\n        \"description\": \"\"\n      }\n    },\n    {\n      \"column\": \"Intracranial & intraspinal germ cell\",\n      \"properties\": {\n        \"dtype\": \"number\",\n        \"std\": 0.8908903508374053,\n        \"min\": 0.06000042,\n        \"max\": 2.52002,\n        \"num_unique_values\": 11,\n        \"samples\": [\n          0.7700043,\n          0.25,\n          0.06999969\n        ],\n        \"semantic_type\": \"\",\n        \"description\": \"\"\n      }\n    },\n    {\n      \"column\": \"Malignant gonadal germ cell\",\n      \"properties\": {\n        \"dtype\": \"number\",\n        \"std\": 25.13570833164113,\n        \"min\": 1.08,\n        \"max\": 69.57,\n        \"num_unique_values\": 16,\n        \"samples\": [\n          1.08,\n          3.62,\n          69.53\n        ],\n        \"semantic_type\": \"\",\n        \"description\": \"\"\n      }\n    },\n    {\n      \"column\": \"Nephroblastoma\",\n      \"properties\": {\n        \"dtype\": \"number\",\n        \"std\": 5.758165722254779,\n        \"min\": 0.1500015,\n        \"max\": 19.91992,\n        \"num_unique_values\": 18,\n        \"samples\": [\n          16.07,\n          19.91992,\n          0.2600021\n        ],\n        \"semantic_type\": \"\",\n        \"description\": \"\"\n      }\n    },\n    {\n      \"column\": \"Neuroblastoma\",\n      \"properties\": {\n        \"dtype\": \"number\",\n        \"std\": 14.296816978549074,\n        \"min\": 0.1000004,\n        \"max\": 58.49,\n        \"num_unique_values\": 15,\n        \"samples\": [\n          0.1100006,\n          0.1299992,\n          58.49\n        ],\n        \"semantic_type\": \"\",\n        \"description\": \"\"\n      }\n    },\n    {\n      \"column\": \"Retinoblastoma\",\n      \"properties\": {\n        \"dtype\": \"number\",\n        \"std\": 14.357234774821023,\n        \"min\": 0.4700012,\n        \"max\": 28.38,\n        \"num_unique_values\": 3,\n        \"samples\": [\n          28.38,\n          8.579956,\n          0.4700012\n        ],\n        \"semantic_type\": \"\",\n        \"description\": \"\"\n      }\n    }\n  ]\n}",
       "type": "dataframe",
       "variable_name": "cancer_ds"
      },
      "text/html": [
       "\n",
       "  <div id=\"df-58f632c2-e536-450e-ba64-5a7f6621a0d7\" class=\"colab-df-container\">\n",
       "    <div>\n",
       "<style scoped>\n",
       "    .dataframe tbody tr th:only-of-type {\n",
       "        vertical-align: middle;\n",
       "    }\n",
       "\n",
       "    .dataframe tbody tr th {\n",
       "        vertical-align: top;\n",
       "    }\n",
       "\n",
       "    .dataframe thead th {\n",
       "        text-align: right;\n",
       "    }\n",
       "</style>\n",
       "<table border=\"1\" class=\"dataframe\">\n",
       "  <thead>\n",
       "    <tr style=\"text-align: right;\">\n",
       "      <th></th>\n",
       "      <th>Age, years</th>\n",
       "      <th>Ewing tumor</th>\n",
       "      <th>Extracranial &amp; extragonadal germ cell 1</th>\n",
       "      <th>Extracranial &amp; extragonadal germ cell 2</th>\n",
       "      <th>Hepatoblastoma</th>\n",
       "      <th>Intracranial &amp; intraspinal embryonal</th>\n",
       "      <th>Intracranial &amp; intraspinal germ cell</th>\n",
       "      <th>Malignant gonadal germ cell</th>\n",
       "      <th>Nephroblastoma</th>\n",
       "      <th>Neuroblastoma</th>\n",
       "      <th>Retinoblastoma</th>\n",
       "    </tr>\n",
       "  </thead>\n",
       "  <tbody>\n",
       "    <tr>\n",
       "      <th>0</th>\n",
       "      <td>0.5</td>\n",
       "      <td>0.290000</td>\n",
       "      <td>12.640000</td>\n",
       "      <td>NaN</td>\n",
       "      <td>10.790000</td>\n",
       "      <td>11.190000</td>\n",
       "      <td>NaN</td>\n",
       "      <td>NaN</td>\n",
       "      <td>16.070000</td>\n",
       "      <td>58.490000</td>\n",
       "      <td>28.380000</td>\n",
       "    </tr>\n",
       "    <tr>\n",
       "      <th>1</th>\n",
       "      <td>3.0</td>\n",
       "      <td>0.979996</td>\n",
       "      <td>1.489990</td>\n",
       "      <td>NaN</td>\n",
       "      <td>4.880005</td>\n",
       "      <td>10.830080</td>\n",
       "      <td>0.250000</td>\n",
       "      <td>NaN</td>\n",
       "      <td>19.919920</td>\n",
       "      <td>21.470210</td>\n",
       "      <td>8.579956</td>\n",
       "    </tr>\n",
       "    <tr>\n",
       "      <th>2</th>\n",
       "      <td>7.5</td>\n",
       "      <td>2.169983</td>\n",
       "      <td>0.130001</td>\n",
       "      <td>0.130001</td>\n",
       "      <td>0.330002</td>\n",
       "      <td>7.479980</td>\n",
       "      <td>1.100006</td>\n",
       "      <td>1.08</td>\n",
       "      <td>5.099976</td>\n",
       "      <td>3.469971</td>\n",
       "      <td>0.470001</td>\n",
       "    </tr>\n",
       "    <tr>\n",
       "      <th>3</th>\n",
       "      <td>12.5</td>\n",
       "      <td>4.250000</td>\n",
       "      <td>NaN</td>\n",
       "      <td>0.330002</td>\n",
       "      <td>0.180000</td>\n",
       "      <td>4.239990</td>\n",
       "      <td>2.520020</td>\n",
       "      <td>3.62</td>\n",
       "      <td>0.699997</td>\n",
       "      <td>1.049988</td>\n",
       "      <td>NaN</td>\n",
       "    </tr>\n",
       "    <tr>\n",
       "      <th>4</th>\n",
       "      <td>17.5</td>\n",
       "      <td>4.290039</td>\n",
       "      <td>NaN</td>\n",
       "      <td>1.709991</td>\n",
       "      <td>NaN</td>\n",
       "      <td>2.869995</td>\n",
       "      <td>2.289978</td>\n",
       "      <td>21.53</td>\n",
       "      <td>0.349998</td>\n",
       "      <td>0.410004</td>\n",
       "      <td>NaN</td>\n",
       "    </tr>\n",
       "  </tbody>\n",
       "</table>\n",
       "</div>\n",
       "    <div class=\"colab-df-buttons\">\n",
       "\n",
       "  <div class=\"colab-df-container\">\n",
       "    <button class=\"colab-df-convert\" onclick=\"convertToInteractive('df-58f632c2-e536-450e-ba64-5a7f6621a0d7')\"\n",
       "            title=\"Convert this dataframe to an interactive table.\"\n",
       "            style=\"display:none;\">\n",
       "\n",
       "  <svg xmlns=\"http://www.w3.org/2000/svg\" height=\"24px\" viewBox=\"0 -960 960 960\">\n",
       "    <path d=\"M120-120v-720h720v720H120Zm60-500h600v-160H180v160Zm220 220h160v-160H400v160Zm0 220h160v-160H400v160ZM180-400h160v-160H180v160Zm440 0h160v-160H620v160ZM180-180h160v-160H180v160Zm440 0h160v-160H620v160Z\"/>\n",
       "  </svg>\n",
       "    </button>\n",
       "\n",
       "  <style>\n",
       "    .colab-df-container {\n",
       "      display:flex;\n",
       "      gap: 12px;\n",
       "    }\n",
       "\n",
       "    .colab-df-convert {\n",
       "      background-color: #E8F0FE;\n",
       "      border: none;\n",
       "      border-radius: 50%;\n",
       "      cursor: pointer;\n",
       "      display: none;\n",
       "      fill: #1967D2;\n",
       "      height: 32px;\n",
       "      padding: 0 0 0 0;\n",
       "      width: 32px;\n",
       "    }\n",
       "\n",
       "    .colab-df-convert:hover {\n",
       "      background-color: #E2EBFA;\n",
       "      box-shadow: 0px 1px 2px rgba(60, 64, 67, 0.3), 0px 1px 3px 1px rgba(60, 64, 67, 0.15);\n",
       "      fill: #174EA6;\n",
       "    }\n",
       "\n",
       "    .colab-df-buttons div {\n",
       "      margin-bottom: 4px;\n",
       "    }\n",
       "\n",
       "    [theme=dark] .colab-df-convert {\n",
       "      background-color: #3B4455;\n",
       "      fill: #D2E3FC;\n",
       "    }\n",
       "\n",
       "    [theme=dark] .colab-df-convert:hover {\n",
       "      background-color: #434B5C;\n",
       "      box-shadow: 0px 1px 3px 1px rgba(0, 0, 0, 0.15);\n",
       "      filter: drop-shadow(0px 1px 2px rgba(0, 0, 0, 0.3));\n",
       "      fill: #FFFFFF;\n",
       "    }\n",
       "  </style>\n",
       "\n",
       "    <script>\n",
       "      const buttonEl =\n",
       "        document.querySelector('#df-58f632c2-e536-450e-ba64-5a7f6621a0d7 button.colab-df-convert');\n",
       "      buttonEl.style.display =\n",
       "        google.colab.kernel.accessAllowed ? 'block' : 'none';\n",
       "\n",
       "      async function convertToInteractive(key) {\n",
       "        const element = document.querySelector('#df-58f632c2-e536-450e-ba64-5a7f6621a0d7');\n",
       "        const dataTable =\n",
       "          await google.colab.kernel.invokeFunction('convertToInteractive',\n",
       "                                                    [key], {});\n",
       "        if (!dataTable) return;\n",
       "\n",
       "        const docLinkHtml = 'Like what you see? Visit the ' +\n",
       "          '<a target=\"_blank\" href=https://colab.research.google.com/notebooks/data_table.ipynb>data table notebook</a>'\n",
       "          + ' to learn more about interactive tables.';\n",
       "        element.innerHTML = '';\n",
       "        dataTable['output_type'] = 'display_data';\n",
       "        await google.colab.output.renderOutput(dataTable, element);\n",
       "        const docLink = document.createElement('div');\n",
       "        docLink.innerHTML = docLinkHtml;\n",
       "        element.appendChild(docLink);\n",
       "      }\n",
       "    </script>\n",
       "  </div>\n",
       "\n",
       "\n",
       "<div id=\"df-b68a020d-6d54-4915-a6c5-c34481d6290b\">\n",
       "  <button class=\"colab-df-quickchart\" onclick=\"quickchart('df-b68a020d-6d54-4915-a6c5-c34481d6290b')\"\n",
       "            title=\"Suggest charts\"\n",
       "            style=\"display:none;\">\n",
       "\n",
       "<svg xmlns=\"http://www.w3.org/2000/svg\" height=\"24px\"viewBox=\"0 0 24 24\"\n",
       "     width=\"24px\">\n",
       "    <g>\n",
       "        <path d=\"M19 3H5c-1.1 0-2 .9-2 2v14c0 1.1.9 2 2 2h14c1.1 0 2-.9 2-2V5c0-1.1-.9-2-2-2zM9 17H7v-7h2v7zm4 0h-2V7h2v10zm4 0h-2v-4h2v4z\"/>\n",
       "    </g>\n",
       "</svg>\n",
       "  </button>\n",
       "\n",
       "<style>\n",
       "  .colab-df-quickchart {\n",
       "      --bg-color: #E8F0FE;\n",
       "      --fill-color: #1967D2;\n",
       "      --hover-bg-color: #E2EBFA;\n",
       "      --hover-fill-color: #174EA6;\n",
       "      --disabled-fill-color: #AAA;\n",
       "      --disabled-bg-color: #DDD;\n",
       "  }\n",
       "\n",
       "  [theme=dark] .colab-df-quickchart {\n",
       "      --bg-color: #3B4455;\n",
       "      --fill-color: #D2E3FC;\n",
       "      --hover-bg-color: #434B5C;\n",
       "      --hover-fill-color: #FFFFFF;\n",
       "      --disabled-bg-color: #3B4455;\n",
       "      --disabled-fill-color: #666;\n",
       "  }\n",
       "\n",
       "  .colab-df-quickchart {\n",
       "    background-color: var(--bg-color);\n",
       "    border: none;\n",
       "    border-radius: 50%;\n",
       "    cursor: pointer;\n",
       "    display: none;\n",
       "    fill: var(--fill-color);\n",
       "    height: 32px;\n",
       "    padding: 0;\n",
       "    width: 32px;\n",
       "  }\n",
       "\n",
       "  .colab-df-quickchart:hover {\n",
       "    background-color: var(--hover-bg-color);\n",
       "    box-shadow: 0 1px 2px rgba(60, 64, 67, 0.3), 0 1px 3px 1px rgba(60, 64, 67, 0.15);\n",
       "    fill: var(--button-hover-fill-color);\n",
       "  }\n",
       "\n",
       "  .colab-df-quickchart-complete:disabled,\n",
       "  .colab-df-quickchart-complete:disabled:hover {\n",
       "    background-color: var(--disabled-bg-color);\n",
       "    fill: var(--disabled-fill-color);\n",
       "    box-shadow: none;\n",
       "  }\n",
       "\n",
       "  .colab-df-spinner {\n",
       "    border: 2px solid var(--fill-color);\n",
       "    border-color: transparent;\n",
       "    border-bottom-color: var(--fill-color);\n",
       "    animation:\n",
       "      spin 1s steps(1) infinite;\n",
       "  }\n",
       "\n",
       "  @keyframes spin {\n",
       "    0% {\n",
       "      border-color: transparent;\n",
       "      border-bottom-color: var(--fill-color);\n",
       "      border-left-color: var(--fill-color);\n",
       "    }\n",
       "    20% {\n",
       "      border-color: transparent;\n",
       "      border-left-color: var(--fill-color);\n",
       "      border-top-color: var(--fill-color);\n",
       "    }\n",
       "    30% {\n",
       "      border-color: transparent;\n",
       "      border-left-color: var(--fill-color);\n",
       "      border-top-color: var(--fill-color);\n",
       "      border-right-color: var(--fill-color);\n",
       "    }\n",
       "    40% {\n",
       "      border-color: transparent;\n",
       "      border-right-color: var(--fill-color);\n",
       "      border-top-color: var(--fill-color);\n",
       "    }\n",
       "    60% {\n",
       "      border-color: transparent;\n",
       "      border-right-color: var(--fill-color);\n",
       "    }\n",
       "    80% {\n",
       "      border-color: transparent;\n",
       "      border-right-color: var(--fill-color);\n",
       "      border-bottom-color: var(--fill-color);\n",
       "    }\n",
       "    90% {\n",
       "      border-color: transparent;\n",
       "      border-bottom-color: var(--fill-color);\n",
       "    }\n",
       "  }\n",
       "</style>\n",
       "\n",
       "  <script>\n",
       "    async function quickchart(key) {\n",
       "      const quickchartButtonEl =\n",
       "        document.querySelector('#' + key + ' button');\n",
       "      quickchartButtonEl.disabled = true;  // To prevent multiple clicks.\n",
       "      quickchartButtonEl.classList.add('colab-df-spinner');\n",
       "      try {\n",
       "        const charts = await google.colab.kernel.invokeFunction(\n",
       "            'suggestCharts', [key], {});\n",
       "      } catch (error) {\n",
       "        console.error('Error during call to suggestCharts:', error);\n",
       "      }\n",
       "      quickchartButtonEl.classList.remove('colab-df-spinner');\n",
       "      quickchartButtonEl.classList.add('colab-df-quickchart-complete');\n",
       "    }\n",
       "    (() => {\n",
       "      let quickchartButtonEl =\n",
       "        document.querySelector('#df-b68a020d-6d54-4915-a6c5-c34481d6290b button');\n",
       "      quickchartButtonEl.style.display =\n",
       "        google.colab.kernel.accessAllowed ? 'block' : 'none';\n",
       "    })();\n",
       "  </script>\n",
       "</div>\n",
       "\n",
       "    </div>\n",
       "  </div>\n"
      ],
      "text/plain": [
       "   Age, years  Ewing tumor  Extracranial & extragonadal germ cell 1  \\\n",
       "0         0.5     0.290000                                12.640000   \n",
       "1         3.0     0.979996                                 1.489990   \n",
       "2         7.5     2.169983                                 0.130001   \n",
       "3        12.5     4.250000                                      NaN   \n",
       "4        17.5     4.290039                                      NaN   \n",
       "\n",
       "   Extracranial & extragonadal germ cell 2  Hepatoblastoma  \\\n",
       "0                                      NaN       10.790000   \n",
       "1                                      NaN        4.880005   \n",
       "2                                 0.130001        0.330002   \n",
       "3                                 0.330002        0.180000   \n",
       "4                                 1.709991             NaN   \n",
       "\n",
       "   Intracranial & intraspinal embryonal  Intracranial & intraspinal germ cell  \\\n",
       "0                             11.190000                                   NaN   \n",
       "1                             10.830080                              0.250000   \n",
       "2                              7.479980                              1.100006   \n",
       "3                              4.239990                              2.520020   \n",
       "4                              2.869995                              2.289978   \n",
       "\n",
       "   Malignant gonadal germ cell  Nephroblastoma  Neuroblastoma  Retinoblastoma  \n",
       "0                          NaN       16.070000      58.490000       28.380000  \n",
       "1                          NaN       19.919920      21.470210        8.579956  \n",
       "2                         1.08        5.099976       3.469971        0.470001  \n",
       "3                         3.62        0.699997       1.049988             NaN  \n",
       "4                        21.53        0.349998       0.410004             NaN  "
      ]
     },
     "execution_count": 10,
     "metadata": {},
     "output_type": "execute_result"
    }
   ],
   "source": [
    "import pandas as pd\n",
    "\n",
    "cancer_ds = pd.read_excel('MyDrive/Using Statistics in Medicine/Instructor Shared Folder/data/Childhood Incidence Data.xlsx', engine=\"openpyxl\")\n",
    "cancer_ds.head()"
   ]
  },
  {
   "cell_type": "code",
   "execution_count": 12,
   "metadata": {
    "colab": {
     "base_uri": "https://localhost:8080/",
     "height": 548
    },
    "executionInfo": {
     "elapsed": 559,
     "status": "ok",
     "timestamp": 1710376021335,
     "user": {
      "displayName": "Kyle Rasku",
      "userId": "06957673124617695133"
     },
     "user_tz": 240
    },
    "id": "nObGBjh2WsCU",
    "outputId": "ca300f65-7313-4e7f-dd9e-cca12955c682"
   },
   "outputs": [
    {
     "data": {
      "image/png": "[encoded data removed]",
      "text/plain": [
       "<Figure size 1000x520 with 1 Axes>"
      ]
     },
     "metadata": {},
     "output_type": "display_data"
    }
   ],
   "source": [
    "# @title Age, years vs Ewing tumor\n",
    "\n",
    "from matplotlib import pyplot as plt\n",
    "import seaborn as sns\n",
    "def _plot_series(series, series_name, series_index=0):\n",
    "  from matplotlib import pyplot as plt\n",
    "  import seaborn as sns\n",
    "  palette = list(sns.palettes.mpl_palette('Dark2'))\n",
    "  xs = series['Age, years']\n",
    "  ys = series['Ewing tumor']\n",
    "\n",
    "  plt.plot(xs, ys, label=series_name, color=palette[series_index % len(palette)])\n",
    "\n",
    "fig, ax = plt.subplots(figsize=(10, 5.2), layout='constrained')\n",
    "df_sorted = cancer_ds.sort_values('Age, years', ascending=True)\n",
    "_plot_series(df_sorted, '')\n",
    "sns.despine(fig=fig, ax=ax)\n",
    "plt.xlabel('Age, years')\n",
    "_ = plt.ylabel('Ewing tumor')"
   ]
  },
  {
   "cell_type": "markdown",
   "metadata": {
    "id": "VpJsHdAuvXkQ"
   },
   "source": [
    "Fitted Erlang Distribution Over Age, Years vs. Ewing Tumor\n",
    "\n",
    "Using the k and theta values from the paper: 4.3 & 4.25\n",
    "\n",
    "The plot is scaled so the distribution curve will align with the data's original y-values."
   ]
  },
  {
   "cell_type": "code",
   "execution_count": 200,
   "metadata": {
    "colab": {
     "base_uri": "https://localhost:8080/",
     "height": 472
    },
    "executionInfo": {
     "elapsed": 464,
     "status": "ok",
     "timestamp": 1710382737302,
     "user": {
      "displayName": "Kyle Rasku",
      "userId": "06957673124617695133"
     },
     "user_tz": 240
    },
    "id": "TmPBo9OlXToP",
    "outputId": "5f24417d-ce87-4e86-c216-64af7f65ff6d"
   },
   "outputs": [
    {
     "data": {
      "image/png": "[encoded data removed]",
      "text/plain": [
       "<Figure size 640x480 with 1 Axes>"
      ]
     },
     "metadata": {},
     "output_type": "display_data"
    }
   ],
   "source": [
    "from scipy.stats import gamma\n",
    "import numpy as np\n",
    "from matplotlib import pyplot as plt\n",
    "\n",
    "x_values = cancer_ds['Age, years']\n",
    "y_values = cancer_ds['Ewing tumor']\n",
    "\n",
    "y_values_clean = y_values[np.isfinite(y_values)]\n",
    "x_values_clean = x_values[np.isfinite(y_values)]\n",
    "\n",
    "k = 4.3  # Shape parameter (k=1 for Erlang is an exponential distribution)\n",
    "theta = 4.25  # Scale parameter\n",
    "\n",
    "# Now we generate y-values for the Erlang distribution\n",
    "# Since k=1, this is essentially an exponential distribution\n",
    "y_erlang = gamma.pdf(x_values_clean, a=k, scale=theta)\n",
    "\n",
    "# Plot the original data\n",
    "plt.plot(x_values_clean, y_values_clean, 'b-', label='Original Data')\n",
    "\n",
    "# Overlay the fitted Erlang distribution\n",
    "plt.plot(x_values_clean, y_erlang*np.mean(x_values_clean)*2.29, label=f'Erlang fit (k={k}, θ={theta})')\n",
    "\n",
    "# Adjust the plot as needed\n",
    "plt.title('Fitted Erlang Distribution')\n",
    "plt.xlabel('Age, years')\n",
    "plt.ylabel('Ewing tumor probability')\n",
    "plt.legend()\n",
    "plt.show()"
   ]
  }
 ],
 "metadata": {
  "colab": {
   "authorship_tag": "ABX9TyN8iurnVAWj6dtAQu+GAzaS",
   "provenance": []
  },
  "kernelspec": {
   "display_name": "Python 3 (ipykernel)",
   "language": "python",
   "name": "python3"
  },
  "language_info": {
   "codemirror_mode": {
    "name": "ipython",
    "version": 3
   },
   "file_extension": ".py",
   "mimetype": "text/x-python",
   "name": "python",
   "nbconvert_exporter": "python",
   "pygments_lexer": "ipython3",
   "version": "3.11.3"
  }
 },
 "nbformat": 4,
 "nbformat_minor": 1
}
