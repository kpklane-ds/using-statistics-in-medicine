{
 "cells": [
  {
   "cell_type": "markdown",
   "metadata": {
    "id": "B_k-77fEE-k4"
   },
   "source": [
    "Week 4: Distributions"
   ]
  },
  {
   "cell_type": "markdown",
   "metadata": {
    "id": "lHzTBGyLFD0s"
   },
   "source": [
    "Introduction to Distributions"
   ]
  },
  {
   "cell_type": "code",
   "execution_count": null,
   "metadata": {
    "id": "B141wQgWE2k5"
   },
   "outputs": [],
   "source": []
  },
  {
   "cell_type": "markdown",
   "metadata": {
    "id": "VRdpOTBtFHBW"
   },
   "source": [
    "Using the Gamma Distribution in Healthcare"
   ]
  },
  {
   "cell_type": "code",
   "execution_count": null,
   "metadata": {
    "id": "09BguQfvFJX6"
   },
   "outputs": [],
   "source": []
  }
 ],
 "metadata": {
  "colab": {
   "authorship_tag": "ABX9TyNs3mVrpjvqPg+Mz67kNyRg",
   "provenance": []
  },
  "kernelspec": {
   "display_name": "Python 3 (ipykernel)",
   "language": "python",
   "name": "python3"
  },
  "language_info": {
   "codemirror_mode": {
    "name": "ipython",
    "version": 3
   },
   "file_extension": ".py",
   "mimetype": "text/x-python",
   "name": "python",
   "nbconvert_exporter": "python",
   "pygments_lexer": "ipython3",
   "version": "3.9.17"
  }
 },
 "nbformat": 4,
 "nbformat_minor": 1
}
