{
 "cells": [
  {
   "cell_type": "markdown",
   "id": "93e08862",
   "metadata": {},
   "source": [
    "### Unit 6: Inter-Group Differences: T-Testing & ANOVA\n",
    "\n",
    "Kyle P. Rasku MS BSN RN\n",
    "\n",
    "In this notebook we'll re-affirm our understanding of T-Testing, which began during the last unit, with a brief review of Two-Sample T-Testing.\n",
    "\n",
    "Then, we'll perform Type 1 ANOVA, or Analysis of Variance. \n",
    "\n",
    "We'll spiral our understanding of ANOVA next week, when we ground it in the context of MANOVA and Regression in Unit 7.\n",
    "\n",
    "#### We'll also take a bit of time to explore the assumptions of T-Testing and ANOVA and how to test for them.\n",
    "\n",
    "When we're uncertain whether our data are normally-distributed, homoskedastic, or roughly equal in variance, we must test these assumptions to ensure that it would be appropriate to use on of these **parametric** tests (T-Tests, ANOVA). \n",
    "\n",
    "In the next notebook (\"6b. Using Non-Parametric Tests\"), we'll look at **non-parametric** tests we can use instead, when data isn't normal / Gaussian in nature!\n"
   ]
  },
  {
   "cell_type": "code",
   "execution_count": 1,
   "id": "28547f82",
   "metadata": {},
   "outputs": [],
   "source": [
    "%matplotlib inline\n",
    "import matplotlib.pylab\n",
    "from matplotlib import pyplot\n",
    "import matplotlib.pyplot as plt\n",
    "plt.rc(\"figure\", figsize=(12,10))\n",
    "import pandas as pd\n",
    "import numpy as np\n",
    "import datetime\n",
    "import math"
   ]
  },
  {
   "cell_type": "code",
   "execution_count": 2,
   "id": "39123a81",
   "metadata": {
    "scrolled": true
   },
   "outputs": [],
   "source": [
    "from ucimlrepo import fetch_ucirepo \n",
    "  \n",
    "# fetch dataset \n",
    "heart_disease = fetch_ucirepo(id=45) \n",
    "  \n",
    "# data (as pandas dataframes) \n",
    "X = heart_disease.data.features \n",
    "y = heart_disease.data.targets "
   ]
  },
  {
   "cell_type": "code",
   "execution_count": 3,
   "id": "9217821b",
   "metadata": {
    "scrolled": true
   },
   "outputs": [
    {
     "data": {
      "text/html": [
       "<div>\n",
       "<style scoped>\n",
       "    .dataframe tbody tr th:only-of-type {\n",
       "        vertical-align: middle;\n",
       "    }\n",
       "\n",
       "    .dataframe tbody tr th {\n",
       "        vertical-align: top;\n",
       "    }\n",
       "\n",
       "    .dataframe thead th {\n",
       "        text-align: right;\n",
       "    }\n",
       "</style>\n",
       "<table border=\"1\" class=\"dataframe\">\n",
       "  <thead>\n",
       "    <tr style=\"text-align: right;\">\n",
       "      <th></th>\n",
       "      <th>age</th>\n",
       "      <th>sex</th>\n",
       "      <th>cp</th>\n",
       "      <th>trestbps</th>\n",
       "      <th>chol</th>\n",
       "      <th>fbs</th>\n",
       "      <th>restecg</th>\n",
       "      <th>thalach</th>\n",
       "      <th>exang</th>\n",
       "      <th>oldpeak</th>\n",
       "      <th>slope</th>\n",
       "      <th>ca</th>\n",
       "      <th>thal</th>\n",
       "      <th>num</th>\n",
       "    </tr>\n",
       "  </thead>\n",
       "  <tbody>\n",
       "    <tr>\n",
       "      <th>0</th>\n",
       "      <td>63</td>\n",
       "      <td>1</td>\n",
       "      <td>1</td>\n",
       "      <td>145</td>\n",
       "      <td>233</td>\n",
       "      <td>1</td>\n",
       "      <td>2</td>\n",
       "      <td>150</td>\n",
       "      <td>0</td>\n",
       "      <td>2.3</td>\n",
       "      <td>3</td>\n",
       "      <td>0.0</td>\n",
       "      <td>6.0</td>\n",
       "      <td>0</td>\n",
       "    </tr>\n",
       "    <tr>\n",
       "      <th>1</th>\n",
       "      <td>67</td>\n",
       "      <td>1</td>\n",
       "      <td>4</td>\n",
       "      <td>160</td>\n",
       "      <td>286</td>\n",
       "      <td>0</td>\n",
       "      <td>2</td>\n",
       "      <td>108</td>\n",
       "      <td>1</td>\n",
       "      <td>1.5</td>\n",
       "      <td>2</td>\n",
       "      <td>3.0</td>\n",
       "      <td>3.0</td>\n",
       "      <td>2</td>\n",
       "    </tr>\n",
       "    <tr>\n",
       "      <th>2</th>\n",
       "      <td>67</td>\n",
       "      <td>1</td>\n",
       "      <td>4</td>\n",
       "      <td>120</td>\n",
       "      <td>229</td>\n",
       "      <td>0</td>\n",
       "      <td>2</td>\n",
       "      <td>129</td>\n",
       "      <td>1</td>\n",
       "      <td>2.6</td>\n",
       "      <td>2</td>\n",
       "      <td>2.0</td>\n",
       "      <td>7.0</td>\n",
       "      <td>1</td>\n",
       "    </tr>\n",
       "    <tr>\n",
       "      <th>3</th>\n",
       "      <td>37</td>\n",
       "      <td>1</td>\n",
       "      <td>3</td>\n",
       "      <td>130</td>\n",
       "      <td>250</td>\n",
       "      <td>0</td>\n",
       "      <td>0</td>\n",
       "      <td>187</td>\n",
       "      <td>0</td>\n",
       "      <td>3.5</td>\n",
       "      <td>3</td>\n",
       "      <td>0.0</td>\n",
       "      <td>3.0</td>\n",
       "      <td>0</td>\n",
       "    </tr>\n",
       "    <tr>\n",
       "      <th>4</th>\n",
       "      <td>41</td>\n",
       "      <td>0</td>\n",
       "      <td>2</td>\n",
       "      <td>130</td>\n",
       "      <td>204</td>\n",
       "      <td>0</td>\n",
       "      <td>2</td>\n",
       "      <td>172</td>\n",
       "      <td>0</td>\n",
       "      <td>1.4</td>\n",
       "      <td>1</td>\n",
       "      <td>0.0</td>\n",
       "      <td>3.0</td>\n",
       "      <td>0</td>\n",
       "    </tr>\n",
       "  </tbody>\n",
       "</table>\n",
       "</div>"
      ],
      "text/plain": [
       "   age  sex  cp  trestbps  chol  fbs  restecg  thalach  exang  oldpeak  slope  \\\n",
       "0   63    1   1       145   233    1        2      150      0      2.3      3   \n",
       "1   67    1   4       160   286    0        2      108      1      1.5      2   \n",
       "2   67    1   4       120   229    0        2      129      1      2.6      2   \n",
       "3   37    1   3       130   250    0        0      187      0      3.5      3   \n",
       "4   41    0   2       130   204    0        2      172      0      1.4      1   \n",
       "\n",
       "    ca  thal  num  \n",
       "0  0.0   6.0    0  \n",
       "1  3.0   3.0    2  \n",
       "2  2.0   7.0    1  \n",
       "3  0.0   3.0    0  \n",
       "4  0.0   3.0    0  "
      ]
     },
     "execution_count": 3,
     "metadata": {},
     "output_type": "execute_result"
    }
   ],
   "source": [
    "heart = pd.read_csv(\"https://archive.ics.uci.edu/static/public/45/data.csv\")\n",
    "heart_backup = heart.copy()\n",
    "heart.head()"
   ]
  },
  {
   "cell_type": "code",
   "execution_count": 4,
   "id": "e23cad07",
   "metadata": {},
   "outputs": [],
   "source": [
    "categorical_columns = [\"sex\", \"cp\", \"fbs\", \"restecg\", \"exang\", \"slope\", \"thal\"]\n",
    "for c in categorical_columns:\n",
    "    heart[c] = pd.Categorical(heart[c])"
   ]
  },
  {
   "cell_type": "code",
   "execution_count": 5,
   "id": "5a2a7449",
   "metadata": {},
   "outputs": [],
   "source": [
    "heart_categorical = heart[[\"sex\", \"cp\", \"fbs\", \"restecg\", \"exang\", \"slope\", \"thal\"]].copy()\n",
    "heart_continuous = heart[[\"age\", \"trestbps\", \"chol\", \"thalach\", \"oldpeak\", \"ca\", \"num\"]].copy()"
   ]
  },
  {
   "cell_type": "code",
   "execution_count": 6,
   "id": "32393b5d",
   "metadata": {},
   "outputs": [
    {
     "data": {
      "text/html": [
       "<div>\n",
       "<style scoped>\n",
       "    .dataframe tbody tr th:only-of-type {\n",
       "        vertical-align: middle;\n",
       "    }\n",
       "\n",
       "    .dataframe tbody tr th {\n",
       "        vertical-align: top;\n",
       "    }\n",
       "\n",
       "    .dataframe thead th {\n",
       "        text-align: right;\n",
       "    }\n",
       "</style>\n",
       "<table border=\"1\" class=\"dataframe\">\n",
       "  <thead>\n",
       "    <tr style=\"text-align: right;\">\n",
       "      <th></th>\n",
       "      <th>sex</th>\n",
       "      <th>cp</th>\n",
       "      <th>fbs</th>\n",
       "      <th>restecg</th>\n",
       "      <th>exang</th>\n",
       "      <th>slope</th>\n",
       "      <th>thal</th>\n",
       "    </tr>\n",
       "  </thead>\n",
       "  <tbody>\n",
       "    <tr>\n",
       "      <th>count</th>\n",
       "      <td>303</td>\n",
       "      <td>303</td>\n",
       "      <td>303</td>\n",
       "      <td>303</td>\n",
       "      <td>303</td>\n",
       "      <td>303</td>\n",
       "      <td>301.0</td>\n",
       "    </tr>\n",
       "    <tr>\n",
       "      <th>unique</th>\n",
       "      <td>2</td>\n",
       "      <td>4</td>\n",
       "      <td>2</td>\n",
       "      <td>3</td>\n",
       "      <td>2</td>\n",
       "      <td>3</td>\n",
       "      <td>3.0</td>\n",
       "    </tr>\n",
       "    <tr>\n",
       "      <th>top</th>\n",
       "      <td>1</td>\n",
       "      <td>4</td>\n",
       "      <td>0</td>\n",
       "      <td>0</td>\n",
       "      <td>0</td>\n",
       "      <td>1</td>\n",
       "      <td>3.0</td>\n",
       "    </tr>\n",
       "    <tr>\n",
       "      <th>freq</th>\n",
       "      <td>206</td>\n",
       "      <td>144</td>\n",
       "      <td>258</td>\n",
       "      <td>151</td>\n",
       "      <td>204</td>\n",
       "      <td>142</td>\n",
       "      <td>166.0</td>\n",
       "    </tr>\n",
       "  </tbody>\n",
       "</table>\n",
       "</div>"
      ],
      "text/plain": [
       "        sex   cp  fbs  restecg  exang  slope   thal\n",
       "count   303  303  303      303    303    303  301.0\n",
       "unique    2    4    2        3      2      3    3.0\n",
       "top       1    4    0        0      0      1    3.0\n",
       "freq    206  144  258      151    204    142  166.0"
      ]
     },
     "execution_count": 6,
     "metadata": {},
     "output_type": "execute_result"
    }
   ],
   "source": [
    "heart_categorical.describe()"
   ]
  },
  {
   "cell_type": "code",
   "execution_count": 7,
   "id": "981720a4",
   "metadata": {},
   "outputs": [
    {
     "data": {
      "text/html": [
       "<div>\n",
       "<style scoped>\n",
       "    .dataframe tbody tr th:only-of-type {\n",
       "        vertical-align: middle;\n",
       "    }\n",
       "\n",
       "    .dataframe tbody tr th {\n",
       "        vertical-align: top;\n",
       "    }\n",
       "\n",
       "    .dataframe thead th {\n",
       "        text-align: right;\n",
       "    }\n",
       "</style>\n",
       "<table border=\"1\" class=\"dataframe\">\n",
       "  <thead>\n",
       "    <tr style=\"text-align: right;\">\n",
       "      <th></th>\n",
       "      <th>age</th>\n",
       "      <th>trestbps</th>\n",
       "      <th>chol</th>\n",
       "      <th>thalach</th>\n",
       "      <th>oldpeak</th>\n",
       "      <th>ca</th>\n",
       "      <th>num</th>\n",
       "    </tr>\n",
       "  </thead>\n",
       "  <tbody>\n",
       "    <tr>\n",
       "      <th>count</th>\n",
       "      <td>303.000000</td>\n",
       "      <td>303.000000</td>\n",
       "      <td>303.000000</td>\n",
       "      <td>303.000000</td>\n",
       "      <td>303.000000</td>\n",
       "      <td>299.000000</td>\n",
       "      <td>303.000000</td>\n",
       "    </tr>\n",
       "    <tr>\n",
       "      <th>mean</th>\n",
       "      <td>54.438944</td>\n",
       "      <td>131.689769</td>\n",
       "      <td>246.693069</td>\n",
       "      <td>149.607261</td>\n",
       "      <td>1.039604</td>\n",
       "      <td>0.672241</td>\n",
       "      <td>0.937294</td>\n",
       "    </tr>\n",
       "    <tr>\n",
       "      <th>std</th>\n",
       "      <td>9.038662</td>\n",
       "      <td>17.599748</td>\n",
       "      <td>51.776918</td>\n",
       "      <td>22.875003</td>\n",
       "      <td>1.161075</td>\n",
       "      <td>0.937438</td>\n",
       "      <td>1.228536</td>\n",
       "    </tr>\n",
       "    <tr>\n",
       "      <th>min</th>\n",
       "      <td>29.000000</td>\n",
       "      <td>94.000000</td>\n",
       "      <td>126.000000</td>\n",
       "      <td>71.000000</td>\n",
       "      <td>0.000000</td>\n",
       "      <td>0.000000</td>\n",
       "      <td>0.000000</td>\n",
       "    </tr>\n",
       "    <tr>\n",
       "      <th>25%</th>\n",
       "      <td>48.000000</td>\n",
       "      <td>120.000000</td>\n",
       "      <td>211.000000</td>\n",
       "      <td>133.500000</td>\n",
       "      <td>0.000000</td>\n",
       "      <td>0.000000</td>\n",
       "      <td>0.000000</td>\n",
       "    </tr>\n",
       "    <tr>\n",
       "      <th>50%</th>\n",
       "      <td>56.000000</td>\n",
       "      <td>130.000000</td>\n",
       "      <td>241.000000</td>\n",
       "      <td>153.000000</td>\n",
       "      <td>0.800000</td>\n",
       "      <td>0.000000</td>\n",
       "      <td>0.000000</td>\n",
       "    </tr>\n",
       "    <tr>\n",
       "      <th>75%</th>\n",
       "      <td>61.000000</td>\n",
       "      <td>140.000000</td>\n",
       "      <td>275.000000</td>\n",
       "      <td>166.000000</td>\n",
       "      <td>1.600000</td>\n",
       "      <td>1.000000</td>\n",
       "      <td>2.000000</td>\n",
       "    </tr>\n",
       "    <tr>\n",
       "      <th>max</th>\n",
       "      <td>77.000000</td>\n",
       "      <td>200.000000</td>\n",
       "      <td>564.000000</td>\n",
       "      <td>202.000000</td>\n",
       "      <td>6.200000</td>\n",
       "      <td>3.000000</td>\n",
       "      <td>4.000000</td>\n",
       "    </tr>\n",
       "  </tbody>\n",
       "</table>\n",
       "</div>"
      ],
      "text/plain": [
       "              age    trestbps        chol     thalach     oldpeak          ca  \\\n",
       "count  303.000000  303.000000  303.000000  303.000000  303.000000  299.000000   \n",
       "mean    54.438944  131.689769  246.693069  149.607261    1.039604    0.672241   \n",
       "std      9.038662   17.599748   51.776918   22.875003    1.161075    0.937438   \n",
       "min     29.000000   94.000000  126.000000   71.000000    0.000000    0.000000   \n",
       "25%     48.000000  120.000000  211.000000  133.500000    0.000000    0.000000   \n",
       "50%     56.000000  130.000000  241.000000  153.000000    0.800000    0.000000   \n",
       "75%     61.000000  140.000000  275.000000  166.000000    1.600000    1.000000   \n",
       "max     77.000000  200.000000  564.000000  202.000000    6.200000    3.000000   \n",
       "\n",
       "              num  \n",
       "count  303.000000  \n",
       "mean     0.937294  \n",
       "std      1.228536  \n",
       "min      0.000000  \n",
       "25%      0.000000  \n",
       "50%      0.000000  \n",
       "75%      2.000000  \n",
       "max      4.000000  "
      ]
     },
     "execution_count": 7,
     "metadata": {},
     "output_type": "execute_result"
    }
   ],
   "source": [
    "heart_continuous.describe()"
   ]
  },
  {
   "cell_type": "code",
   "execution_count": 8,
   "id": "c70da538",
   "metadata": {},
   "outputs": [
    {
     "data": {
      "text/html": [
       "<div>\n",
       "<style scoped>\n",
       "    .dataframe tbody tr th:only-of-type {\n",
       "        vertical-align: middle;\n",
       "    }\n",
       "\n",
       "    .dataframe tbody tr th {\n",
       "        vertical-align: top;\n",
       "    }\n",
       "\n",
       "    .dataframe thead th {\n",
       "        text-align: right;\n",
       "    }\n",
       "</style>\n",
       "<table border=\"1\" class=\"dataframe\">\n",
       "  <thead>\n",
       "    <tr style=\"text-align: right;\">\n",
       "      <th></th>\n",
       "      <th>age</th>\n",
       "      <th>trestbps</th>\n",
       "      <th>chol</th>\n",
       "      <th>thalach</th>\n",
       "      <th>oldpeak</th>\n",
       "      <th>ca</th>\n",
       "      <th>num</th>\n",
       "    </tr>\n",
       "  </thead>\n",
       "  <tbody>\n",
       "    <tr>\n",
       "      <th>count</th>\n",
       "      <td>303.000000</td>\n",
       "      <td>303.000000</td>\n",
       "      <td>303.000000</td>\n",
       "      <td>303.000000</td>\n",
       "      <td>303.000000</td>\n",
       "      <td>299.000000</td>\n",
       "      <td>303.000000</td>\n",
       "    </tr>\n",
       "    <tr>\n",
       "      <th>mean</th>\n",
       "      <td>54.438944</td>\n",
       "      <td>131.689769</td>\n",
       "      <td>246.693069</td>\n",
       "      <td>149.607261</td>\n",
       "      <td>1.039604</td>\n",
       "      <td>0.672241</td>\n",
       "      <td>0.937294</td>\n",
       "    </tr>\n",
       "    <tr>\n",
       "      <th>std</th>\n",
       "      <td>9.038662</td>\n",
       "      <td>17.599748</td>\n",
       "      <td>51.776918</td>\n",
       "      <td>22.875003</td>\n",
       "      <td>1.161075</td>\n",
       "      <td>0.937438</td>\n",
       "      <td>1.228536</td>\n",
       "    </tr>\n",
       "    <tr>\n",
       "      <th>min</th>\n",
       "      <td>29.000000</td>\n",
       "      <td>94.000000</td>\n",
       "      <td>126.000000</td>\n",
       "      <td>71.000000</td>\n",
       "      <td>0.000000</td>\n",
       "      <td>0.000000</td>\n",
       "      <td>0.000000</td>\n",
       "    </tr>\n",
       "    <tr>\n",
       "      <th>25%</th>\n",
       "      <td>48.000000</td>\n",
       "      <td>120.000000</td>\n",
       "      <td>211.000000</td>\n",
       "      <td>133.500000</td>\n",
       "      <td>0.000000</td>\n",
       "      <td>0.000000</td>\n",
       "      <td>0.000000</td>\n",
       "    </tr>\n",
       "    <tr>\n",
       "      <th>50%</th>\n",
       "      <td>56.000000</td>\n",
       "      <td>130.000000</td>\n",
       "      <td>241.000000</td>\n",
       "      <td>153.000000</td>\n",
       "      <td>0.800000</td>\n",
       "      <td>0.000000</td>\n",
       "      <td>0.000000</td>\n",
       "    </tr>\n",
       "    <tr>\n",
       "      <th>75%</th>\n",
       "      <td>61.000000</td>\n",
       "      <td>140.000000</td>\n",
       "      <td>275.000000</td>\n",
       "      <td>166.000000</td>\n",
       "      <td>1.600000</td>\n",
       "      <td>1.000000</td>\n",
       "      <td>2.000000</td>\n",
       "    </tr>\n",
       "    <tr>\n",
       "      <th>max</th>\n",
       "      <td>77.000000</td>\n",
       "      <td>200.000000</td>\n",
       "      <td>564.000000</td>\n",
       "      <td>202.000000</td>\n",
       "      <td>6.200000</td>\n",
       "      <td>3.000000</td>\n",
       "      <td>4.000000</td>\n",
       "    </tr>\n",
       "    <tr>\n",
       "      <th>IQR</th>\n",
       "      <td>13.000000</td>\n",
       "      <td>20.000000</td>\n",
       "      <td>64.000000</td>\n",
       "      <td>32.500000</td>\n",
       "      <td>1.600000</td>\n",
       "      <td>1.000000</td>\n",
       "      <td>2.000000</td>\n",
       "    </tr>\n",
       "    <tr>\n",
       "      <th>range</th>\n",
       "      <td>48.000000</td>\n",
       "      <td>106.000000</td>\n",
       "      <td>438.000000</td>\n",
       "      <td>131.000000</td>\n",
       "      <td>6.200000</td>\n",
       "      <td>3.000000</td>\n",
       "      <td>4.000000</td>\n",
       "    </tr>\n",
       "    <tr>\n",
       "      <th>var</th>\n",
       "      <td>81.697419</td>\n",
       "      <td>309.751120</td>\n",
       "      <td>2680.849190</td>\n",
       "      <td>523.265775</td>\n",
       "      <td>1.348095</td>\n",
       "      <td>0.878791</td>\n",
       "      <td>1.509300</td>\n",
       "    </tr>\n",
       "  </tbody>\n",
       "</table>\n",
       "</div>"
      ],
      "text/plain": [
       "              age    trestbps         chol     thalach     oldpeak  \\\n",
       "count  303.000000  303.000000   303.000000  303.000000  303.000000   \n",
       "mean    54.438944  131.689769   246.693069  149.607261    1.039604   \n",
       "std      9.038662   17.599748    51.776918   22.875003    1.161075   \n",
       "min     29.000000   94.000000   126.000000   71.000000    0.000000   \n",
       "25%     48.000000  120.000000   211.000000  133.500000    0.000000   \n",
       "50%     56.000000  130.000000   241.000000  153.000000    0.800000   \n",
       "75%     61.000000  140.000000   275.000000  166.000000    1.600000   \n",
       "max     77.000000  200.000000   564.000000  202.000000    6.200000   \n",
       "IQR     13.000000   20.000000    64.000000   32.500000    1.600000   \n",
       "range   48.000000  106.000000   438.000000  131.000000    6.200000   \n",
       "var     81.697419  309.751120  2680.849190  523.265775    1.348095   \n",
       "\n",
       "               ca         num  \n",
       "count  299.000000  303.000000  \n",
       "mean     0.672241    0.937294  \n",
       "std      0.937438    1.228536  \n",
       "min      0.000000    0.000000  \n",
       "25%      0.000000    0.000000  \n",
       "50%      0.000000    0.000000  \n",
       "75%      1.000000    2.000000  \n",
       "max      3.000000    4.000000  \n",
       "IQR      1.000000    2.000000  \n",
       "range    3.000000    4.000000  \n",
       "var      0.878791    1.509300  "
      ]
     },
     "execution_count": 8,
     "metadata": {},
     "output_type": "execute_result"
    }
   ],
   "source": [
    "# Add IQR, variance and range\n",
    "heart_summary = heart_continuous.describe().transpose()\n",
    "\n",
    "heart_summary[\"IQR\"] = heart_summary[\"75%\"] - heart_summary[\"25%\"]\n",
    "heart_summary[\"range\"] = heart_summary[\"max\"] - heart_summary[\"min\"]\n",
    "heart_summary[\"var\"] = heart_summary[\"std\"]*heart_summary[\"std\"]\n",
    "\n",
    "heart_summary = heart_summary.transpose()\n",
    "heart_summary"
   ]
  },
  {
   "cell_type": "code",
   "execution_count": 9,
   "id": "fdb24458",
   "metadata": {},
   "outputs": [
    {
     "data": {
      "text/html": [
       "<div>\n",
       "<style scoped>\n",
       "    .dataframe tbody tr th:only-of-type {\n",
       "        vertical-align: middle;\n",
       "    }\n",
       "\n",
       "    .dataframe tbody tr th {\n",
       "        vertical-align: top;\n",
       "    }\n",
       "\n",
       "    .dataframe thead th {\n",
       "        text-align: right;\n",
       "    }\n",
       "</style>\n",
       "<table border=\"1\" class=\"dataframe\">\n",
       "  <thead>\n",
       "    <tr style=\"text-align: right;\">\n",
       "      <th></th>\n",
       "      <th>age</th>\n",
       "      <th>sex</th>\n",
       "      <th>cp</th>\n",
       "      <th>trestbps</th>\n",
       "      <th>chol</th>\n",
       "      <th>fbs</th>\n",
       "      <th>restecg</th>\n",
       "      <th>thalach</th>\n",
       "      <th>exang</th>\n",
       "      <th>oldpeak</th>\n",
       "      <th>slope</th>\n",
       "      <th>ca</th>\n",
       "      <th>thal</th>\n",
       "      <th>num</th>\n",
       "    </tr>\n",
       "  </thead>\n",
       "  <tbody>\n",
       "    <tr>\n",
       "      <th>0</th>\n",
       "      <td>63</td>\n",
       "      <td>1</td>\n",
       "      <td>1</td>\n",
       "      <td>145</td>\n",
       "      <td>233</td>\n",
       "      <td>1</td>\n",
       "      <td>2</td>\n",
       "      <td>150</td>\n",
       "      <td>0</td>\n",
       "      <td>2.3</td>\n",
       "      <td>3</td>\n",
       "      <td>0.0</td>\n",
       "      <td>6.0</td>\n",
       "      <td>0</td>\n",
       "    </tr>\n",
       "    <tr>\n",
       "      <th>1</th>\n",
       "      <td>67</td>\n",
       "      <td>1</td>\n",
       "      <td>4</td>\n",
       "      <td>160</td>\n",
       "      <td>286</td>\n",
       "      <td>0</td>\n",
       "      <td>2</td>\n",
       "      <td>108</td>\n",
       "      <td>1</td>\n",
       "      <td>1.5</td>\n",
       "      <td>2</td>\n",
       "      <td>3.0</td>\n",
       "      <td>3.0</td>\n",
       "      <td>2</td>\n",
       "    </tr>\n",
       "    <tr>\n",
       "      <th>2</th>\n",
       "      <td>67</td>\n",
       "      <td>1</td>\n",
       "      <td>4</td>\n",
       "      <td>120</td>\n",
       "      <td>229</td>\n",
       "      <td>0</td>\n",
       "      <td>2</td>\n",
       "      <td>129</td>\n",
       "      <td>1</td>\n",
       "      <td>2.6</td>\n",
       "      <td>2</td>\n",
       "      <td>2.0</td>\n",
       "      <td>7.0</td>\n",
       "      <td>1</td>\n",
       "    </tr>\n",
       "    <tr>\n",
       "      <th>3</th>\n",
       "      <td>37</td>\n",
       "      <td>1</td>\n",
       "      <td>3</td>\n",
       "      <td>130</td>\n",
       "      <td>250</td>\n",
       "      <td>0</td>\n",
       "      <td>0</td>\n",
       "      <td>187</td>\n",
       "      <td>0</td>\n",
       "      <td>3.5</td>\n",
       "      <td>3</td>\n",
       "      <td>0.0</td>\n",
       "      <td>3.0</td>\n",
       "      <td>0</td>\n",
       "    </tr>\n",
       "    <tr>\n",
       "      <th>5</th>\n",
       "      <td>56</td>\n",
       "      <td>1</td>\n",
       "      <td>2</td>\n",
       "      <td>120</td>\n",
       "      <td>236</td>\n",
       "      <td>0</td>\n",
       "      <td>0</td>\n",
       "      <td>178</td>\n",
       "      <td>0</td>\n",
       "      <td>0.8</td>\n",
       "      <td>1</td>\n",
       "      <td>0.0</td>\n",
       "      <td>3.0</td>\n",
       "      <td>0</td>\n",
       "    </tr>\n",
       "  </tbody>\n",
       "</table>\n",
       "</div>"
      ],
      "text/plain": [
       "   age sex cp  trestbps  chol fbs restecg  thalach exang  oldpeak slope   ca  \\\n",
       "0   63   1  1       145   233   1       2      150     0      2.3     3  0.0   \n",
       "1   67   1  4       160   286   0       2      108     1      1.5     2  3.0   \n",
       "2   67   1  4       120   229   0       2      129     1      2.6     2  2.0   \n",
       "3   37   1  3       130   250   0       0      187     0      3.5     3  0.0   \n",
       "5   56   1  2       120   236   0       0      178     0      0.8     1  0.0   \n",
       "\n",
       "  thal  num  \n",
       "0  6.0    0  \n",
       "1  3.0    2  \n",
       "2  7.0    1  \n",
       "3  3.0    0  \n",
       "5  3.0    0  "
      ]
     },
     "execution_count": 9,
     "metadata": {},
     "output_type": "execute_result"
    }
   ],
   "source": [
    "#divide data into male vs. female sets\n",
    "\n",
    "males = heart[heart[\"sex\"]==1].copy()\n",
    "females = heart[heart[\"sex\"]==0].copy()\n",
    "\n",
    "males.head()"
   ]
  },
  {
   "cell_type": "code",
   "execution_count": 10,
   "id": "31ec2758",
   "metadata": {},
   "outputs": [
    {
     "data": {
      "text/html": [
       "<div>\n",
       "<style scoped>\n",
       "    .dataframe tbody tr th:only-of-type {\n",
       "        vertical-align: middle;\n",
       "    }\n",
       "\n",
       "    .dataframe tbody tr th {\n",
       "        vertical-align: top;\n",
       "    }\n",
       "\n",
       "    .dataframe thead th {\n",
       "        text-align: right;\n",
       "    }\n",
       "</style>\n",
       "<table border=\"1\" class=\"dataframe\">\n",
       "  <thead>\n",
       "    <tr style=\"text-align: right;\">\n",
       "      <th></th>\n",
       "      <th>age</th>\n",
       "      <th>sex</th>\n",
       "      <th>cp</th>\n",
       "      <th>trestbps</th>\n",
       "      <th>chol</th>\n",
       "      <th>fbs</th>\n",
       "      <th>restecg</th>\n",
       "      <th>thalach</th>\n",
       "      <th>exang</th>\n",
       "      <th>oldpeak</th>\n",
       "      <th>slope</th>\n",
       "      <th>ca</th>\n",
       "      <th>thal</th>\n",
       "      <th>num</th>\n",
       "    </tr>\n",
       "  </thead>\n",
       "  <tbody>\n",
       "    <tr>\n",
       "      <th>4</th>\n",
       "      <td>41</td>\n",
       "      <td>0</td>\n",
       "      <td>2</td>\n",
       "      <td>130</td>\n",
       "      <td>204</td>\n",
       "      <td>0</td>\n",
       "      <td>2</td>\n",
       "      <td>172</td>\n",
       "      <td>0</td>\n",
       "      <td>1.4</td>\n",
       "      <td>1</td>\n",
       "      <td>0.0</td>\n",
       "      <td>3.0</td>\n",
       "      <td>0</td>\n",
       "    </tr>\n",
       "    <tr>\n",
       "      <th>6</th>\n",
       "      <td>62</td>\n",
       "      <td>0</td>\n",
       "      <td>4</td>\n",
       "      <td>140</td>\n",
       "      <td>268</td>\n",
       "      <td>0</td>\n",
       "      <td>2</td>\n",
       "      <td>160</td>\n",
       "      <td>0</td>\n",
       "      <td>3.6</td>\n",
       "      <td>3</td>\n",
       "      <td>2.0</td>\n",
       "      <td>3.0</td>\n",
       "      <td>3</td>\n",
       "    </tr>\n",
       "    <tr>\n",
       "      <th>7</th>\n",
       "      <td>57</td>\n",
       "      <td>0</td>\n",
       "      <td>4</td>\n",
       "      <td>120</td>\n",
       "      <td>354</td>\n",
       "      <td>0</td>\n",
       "      <td>0</td>\n",
       "      <td>163</td>\n",
       "      <td>1</td>\n",
       "      <td>0.6</td>\n",
       "      <td>1</td>\n",
       "      <td>0.0</td>\n",
       "      <td>3.0</td>\n",
       "      <td>0</td>\n",
       "    </tr>\n",
       "    <tr>\n",
       "      <th>11</th>\n",
       "      <td>56</td>\n",
       "      <td>0</td>\n",
       "      <td>2</td>\n",
       "      <td>140</td>\n",
       "      <td>294</td>\n",
       "      <td>0</td>\n",
       "      <td>2</td>\n",
       "      <td>153</td>\n",
       "      <td>0</td>\n",
       "      <td>1.3</td>\n",
       "      <td>2</td>\n",
       "      <td>0.0</td>\n",
       "      <td>3.0</td>\n",
       "      <td>0</td>\n",
       "    </tr>\n",
       "    <tr>\n",
       "      <th>18</th>\n",
       "      <td>48</td>\n",
       "      <td>0</td>\n",
       "      <td>3</td>\n",
       "      <td>130</td>\n",
       "      <td>275</td>\n",
       "      <td>0</td>\n",
       "      <td>0</td>\n",
       "      <td>139</td>\n",
       "      <td>0</td>\n",
       "      <td>0.2</td>\n",
       "      <td>1</td>\n",
       "      <td>0.0</td>\n",
       "      <td>3.0</td>\n",
       "      <td>0</td>\n",
       "    </tr>\n",
       "  </tbody>\n",
       "</table>\n",
       "</div>"
      ],
      "text/plain": [
       "    age sex cp  trestbps  chol fbs restecg  thalach exang  oldpeak slope   ca  \\\n",
       "4    41   0  2       130   204   0       2      172     0      1.4     1  0.0   \n",
       "6    62   0  4       140   268   0       2      160     0      3.6     3  2.0   \n",
       "7    57   0  4       120   354   0       0      163     1      0.6     1  0.0   \n",
       "11   56   0  2       140   294   0       2      153     0      1.3     2  0.0   \n",
       "18   48   0  3       130   275   0       0      139     0      0.2     1  0.0   \n",
       "\n",
       "   thal  num  \n",
       "4   3.0    0  \n",
       "6   3.0    3  \n",
       "7   3.0    0  \n",
       "11  3.0    0  \n",
       "18  3.0    0  "
      ]
     },
     "execution_count": 10,
     "metadata": {},
     "output_type": "execute_result"
    }
   ],
   "source": [
    "females.head()"
   ]
  },
  {
   "cell_type": "code",
   "execution_count": 11,
   "id": "7db39a71",
   "metadata": {},
   "outputs": [
    {
     "name": "stdout",
     "output_type": "stream",
     "text": [
      "(206, 14)\n",
      "(97, 14)\n"
     ]
    }
   ],
   "source": [
    "print(males.shape)\n",
    "print(females.shape)"
   ]
  },
  {
   "cell_type": "markdown",
   "id": "83825fd8",
   "metadata": {},
   "source": [
    "We created two groups using males vs. females.\n",
    "\n",
    "Now, let's create three groups, using patients' ages.\n",
    "\n",
    "To decide where to separate the three groups, let's first look at the range of ages represented in the data."
   ]
  },
  {
   "cell_type": "code",
   "execution_count": 13,
   "id": "a153cbd0",
   "metadata": {
    "scrolled": true
   },
   "outputs": [
    {
     "data": {
      "text/plain": [
       "<Axes: >"
      ]
     },
     "execution_count": 13,
     "metadata": {},
     "output_type": "execute_result"
    },
    {
     "data": {
      "image/png": "[encoded data removed]",
      "text/plain": [
       "<Figure size 1200x1000 with 1 Axes>"
      ]
     },
     "metadata": {},
     "output_type": "display_data"
    }
   ],
   "source": [
    "heart[\"age\"].hist()"
   ]
  },
  {
   "cell_type": "markdown",
   "id": "8f1cc353",
   "metadata": {},
   "source": [
    "The ages seem to range from late 20s to late 70s, with the majority of patient ages falling between 45 and 65.  \n",
    "\n",
    "The data is roughly normally distributed.\n",
    "\n",
    "Based on this and our understanding of life-stages, let's divide the data into ages 0-45, 45-60, and 60+"
   ]
  },
  {
   "cell_type": "code",
   "execution_count": 23,
   "id": "0385d3d4",
   "metadata": {},
   "outputs": [
    {
     "data": {
      "text/html": [
       "<div>\n",
       "<style scoped>\n",
       "    .dataframe tbody tr th:only-of-type {\n",
       "        vertical-align: middle;\n",
       "    }\n",
       "\n",
       "    .dataframe tbody tr th {\n",
       "        vertical-align: top;\n",
       "    }\n",
       "\n",
       "    .dataframe thead th {\n",
       "        text-align: right;\n",
       "    }\n",
       "</style>\n",
       "<table border=\"1\" class=\"dataframe\">\n",
       "  <thead>\n",
       "    <tr style=\"text-align: right;\">\n",
       "      <th></th>\n",
       "      <th>age</th>\n",
       "      <th>sex</th>\n",
       "      <th>cp</th>\n",
       "      <th>trestbps</th>\n",
       "      <th>chol</th>\n",
       "      <th>fbs</th>\n",
       "      <th>restecg</th>\n",
       "      <th>thalach</th>\n",
       "      <th>exang</th>\n",
       "      <th>oldpeak</th>\n",
       "      <th>slope</th>\n",
       "      <th>ca</th>\n",
       "      <th>thal</th>\n",
       "      <th>num</th>\n",
       "      <th>age_group</th>\n",
       "    </tr>\n",
       "  </thead>\n",
       "  <tbody>\n",
       "    <tr>\n",
       "      <th>0</th>\n",
       "      <td>63</td>\n",
       "      <td>1</td>\n",
       "      <td>1</td>\n",
       "      <td>145</td>\n",
       "      <td>233</td>\n",
       "      <td>1</td>\n",
       "      <td>2</td>\n",
       "      <td>150</td>\n",
       "      <td>0</td>\n",
       "      <td>2.3</td>\n",
       "      <td>3</td>\n",
       "      <td>0.0</td>\n",
       "      <td>6.0</td>\n",
       "      <td>0</td>\n",
       "      <td>3</td>\n",
       "    </tr>\n",
       "    <tr>\n",
       "      <th>1</th>\n",
       "      <td>67</td>\n",
       "      <td>1</td>\n",
       "      <td>4</td>\n",
       "      <td>160</td>\n",
       "      <td>286</td>\n",
       "      <td>0</td>\n",
       "      <td>2</td>\n",
       "      <td>108</td>\n",
       "      <td>1</td>\n",
       "      <td>1.5</td>\n",
       "      <td>2</td>\n",
       "      <td>3.0</td>\n",
       "      <td>3.0</td>\n",
       "      <td>2</td>\n",
       "      <td>3</td>\n",
       "    </tr>\n",
       "    <tr>\n",
       "      <th>2</th>\n",
       "      <td>67</td>\n",
       "      <td>1</td>\n",
       "      <td>4</td>\n",
       "      <td>120</td>\n",
       "      <td>229</td>\n",
       "      <td>0</td>\n",
       "      <td>2</td>\n",
       "      <td>129</td>\n",
       "      <td>1</td>\n",
       "      <td>2.6</td>\n",
       "      <td>2</td>\n",
       "      <td>2.0</td>\n",
       "      <td>7.0</td>\n",
       "      <td>1</td>\n",
       "      <td>3</td>\n",
       "    </tr>\n",
       "    <tr>\n",
       "      <th>3</th>\n",
       "      <td>37</td>\n",
       "      <td>1</td>\n",
       "      <td>3</td>\n",
       "      <td>130</td>\n",
       "      <td>250</td>\n",
       "      <td>0</td>\n",
       "      <td>0</td>\n",
       "      <td>187</td>\n",
       "      <td>0</td>\n",
       "      <td>3.5</td>\n",
       "      <td>3</td>\n",
       "      <td>0.0</td>\n",
       "      <td>3.0</td>\n",
       "      <td>0</td>\n",
       "      <td>1</td>\n",
       "    </tr>\n",
       "    <tr>\n",
       "      <th>4</th>\n",
       "      <td>41</td>\n",
       "      <td>0</td>\n",
       "      <td>2</td>\n",
       "      <td>130</td>\n",
       "      <td>204</td>\n",
       "      <td>0</td>\n",
       "      <td>2</td>\n",
       "      <td>172</td>\n",
       "      <td>0</td>\n",
       "      <td>1.4</td>\n",
       "      <td>1</td>\n",
       "      <td>0.0</td>\n",
       "      <td>3.0</td>\n",
       "      <td>0</td>\n",
       "      <td>1</td>\n",
       "    </tr>\n",
       "  </tbody>\n",
       "</table>\n",
       "</div>"
      ],
      "text/plain": [
       "   age sex cp  trestbps  chol fbs restecg  thalach exang  oldpeak slope   ca  \\\n",
       "0   63   1  1       145   233   1       2      150     0      2.3     3  0.0   \n",
       "1   67   1  4       160   286   0       2      108     1      1.5     2  3.0   \n",
       "2   67   1  4       120   229   0       2      129     1      2.6     2  2.0   \n",
       "3   37   1  3       130   250   0       0      187     0      3.5     3  0.0   \n",
       "4   41   0  2       130   204   0       2      172     0      1.4     1  0.0   \n",
       "\n",
       "  thal  num  age_group  \n",
       "0  6.0    0          3  \n",
       "1  3.0    2          3  \n",
       "2  7.0    1          3  \n",
       "3  3.0    0          1  \n",
       "4  3.0    0          1  "
      ]
     },
     "execution_count": 23,
     "metadata": {},
     "output_type": "execute_result"
    }
   ],
   "source": [
    "# Create an age-group field: age < 45: group 1, age 45-59: group 2, age 60+: group 3\n",
    "\n",
    "heart.loc[heart['age'] < 45, 'age_group'] = 1\n",
    "heart.loc[(heart['age'] > 44) & (heart['age'] < 60), 'age_group'] = 2\n",
    "heart.loc[heart['age'] > 59, 'age_group'] = 3\n",
    "heart['age_group'] = heart['age_group'].astype('Int64')\n",
    "\n",
    "heart.head()"
   ]
  },
  {
   "cell_type": "markdown",
   "id": "b0168d43",
   "metadata": {},
   "source": [
    "### We're Still Hypothesis Testing!\n",
    "\n",
    "Review: There must always be a hypothesis to test, for power and statistical significance to matter.\n",
    "\n",
    "We must:\n",
    "1. Calculate power\n",
    "2. Set the significance level (alpha)\n",
    "3. State the null and alternative hypotheses\n",
    "4. **Ensure the data meets the test requirements (new)**\n",
    "5. Conduct the correct test\n",
    "\n",
    "In the prior lecture, we conducted our tests on normally distributed data, and didn't dig into the test assumptions.  \n",
    "\n",
    "Here we'll review what we already know about hypothesis testing, but add in an important new level of sophistication - checking to see that the test assumptions are met before conducting the test and interpreting the results!\n",
    "\n",
    "First, we'll perform a power calculation.  \n",
    "\n",
    "Do we have sufficient observations (n=97, the size of the smaller group), to compare our two groups with 80% power, and alpha of 0.05? "
   ]
  },
  {
   "cell_type": "code",
   "execution_count": 29,
   "id": "ef37de06",
   "metadata": {},
   "outputs": [
    {
     "name": "stdout",
     "output_type": "stream",
     "text": [
      "Power: 1.000\n"
     ]
    }
   ],
   "source": [
    "from statsmodels.stats.power import TTestPower\n",
    "\n",
    "power = TTestPower()\n",
    "n_test = power.solve_power(nobs=97, effect_size = 0.8,\n",
    "                           power = None, alpha = 0.05)\n",
    "print('Power: {:.3f}'.format(n_test))"
   ]
  },
  {
   "cell_type": "markdown",
   "id": "b9803cc2",
   "metadata": {},
   "source": [
    "### Great!  Looks like we have sufficient power to perform our two-sample t test \n",
    "\n",
    "Since we are using alpha = 0.05, we can assume the default alpha.\n",
    "\n",
    "Now, let's state the hypotheses:\n",
    "\n",
    "##### H0: The mean inital blood pressure for females is the same as the mean initial blood pressure for males at alpha = 0.05\n",
    "##### HA: There is a significant difference in mean inital blood pressure between males and females at alpha=0.05\n",
    "\n",
    "\n",
    "\n",
    "### Now, let's check the data to see if it meets requirements for a t test:\n",
    "\n",
    "1. Independence: The observations in one sample are independent of the observations in the other sample.\n",
    "\n",
    "The observations are independent, because they were not made on the same people, and people in one group were not dependent on anything in the other group so this one is met.\n",
    "\n",
    "2. Normality: Both samples are approximately normally distributed.\n",
    "\n",
    "3. Homogeneity of Variances: Both samples have approximately the same variance.\n",
    "\n",
    "4. Random Sampling: Both samples were obtained using a random sampling method.\n",
    "\n",
    "This one is also met.\n",
    "\n",
    "So we just have to test #2 and #3.  If #3, Homogeneity of Variances, isn't met we can use Welch's t test instead.  Some people think you should just use Welch's test all the time. :)\n"
   ]
  },
  {
   "cell_type": "code",
   "execution_count": 32,
   "id": "4f1ad9ae",
   "metadata": {},
   "outputs": [
    {
     "data": {
      "text/plain": [
       "array([<Axes: title={'center': 'trestbps'}>], dtype=object)"
      ]
     },
     "execution_count": 32,
     "metadata": {},
     "output_type": "execute_result"
    },
    {
     "data": {
      "image/png": "[encoded data removed]",
      "text/plain": [
       "<Figure size 1200x1000 with 2 Axes>"
      ]
     },
     "metadata": {},
     "output_type": "display_data"
    }
   ],
   "source": [
    "fig, axes = plt.subplots(1, 2)\n",
    "\n",
    "males.hist('trestbps', bins=10, ax=axes[0])\n",
    "females.hist('trestbps', bins=10, ax=axes[1])"
   ]
  },
  {
   "cell_type": "markdown",
   "id": "822a6ea0",
   "metadata": {},
   "source": [
    "These look roughly normally distributed, which is all that's required here.\n",
    "\n",
    "Now, let's check the variances:"
   ]
  },
  {
   "cell_type": "code",
   "execution_count": 33,
   "id": "5256776d",
   "metadata": {},
   "outputs": [
    {
     "data": {
      "text/plain": [
       "count    206.000000\n",
       "mean     130.912621\n",
       "std       16.691524\n",
       "min       94.000000\n",
       "25%      120.000000\n",
       "50%      130.000000\n",
       "75%      140.000000\n",
       "max      192.000000\n",
       "Name: trestbps, dtype: float64"
      ]
     },
     "execution_count": 33,
     "metadata": {},
     "output_type": "execute_result"
    }
   ],
   "source": [
    "males['trestbps'].describe()"
   ]
  },
  {
   "cell_type": "code",
   "execution_count": 34,
   "id": "c1ec211c",
   "metadata": {},
   "outputs": [
    {
     "data": {
      "text/plain": [
       "count     97.000000\n",
       "mean     133.340206\n",
       "std       19.376149\n",
       "min       94.000000\n",
       "25%      120.000000\n",
       "50%      132.000000\n",
       "75%      140.000000\n",
       "max      200.000000\n",
       "Name: trestbps, dtype: float64"
      ]
     },
     "execution_count": 34,
     "metadata": {},
     "output_type": "execute_result"
    }
   ],
   "source": [
    "females['trestbps'].describe()"
   ]
  },
  {
   "cell_type": "code",
   "execution_count": 35,
   "id": "686b4751",
   "metadata": {},
   "outputs": [
    {
     "data": {
      "text/plain": [
       "278.606973442576"
      ]
     },
     "execution_count": 35,
     "metadata": {},
     "output_type": "execute_result"
    }
   ],
   "source": [
    "16.691524*16.691524"
   ]
  },
  {
   "cell_type": "code",
   "execution_count": 36,
   "id": "fb8a074e",
   "metadata": {},
   "outputs": [
    {
     "data": {
      "text/plain": [
       "375.4351500702011"
      ]
     },
     "execution_count": 36,
     "metadata": {},
     "output_type": "execute_result"
    }
   ],
   "source": [
    "19.376149*19.376149"
   ]
  },
  {
   "cell_type": "markdown",
   "id": "2d457bfc",
   "metadata": {},
   "source": [
    "The variance for males' initial BP is 278.61, and the variance for females' initial BP is 375.44\n",
    "\n",
    "### The females variance is substantially higher than the males, so we must use Welch's test, which does not care about equal variance between the two samples."
   ]
  },
  {
   "cell_type": "code",
   "execution_count": 38,
   "id": "96e9bf84",
   "metadata": {},
   "outputs": [
    {
     "data": {
      "text/plain": [
       "Ttest_indResult(statistic=-1.0622273145438155, pvalue=0.2896813792526513)"
      ]
     },
     "execution_count": 38,
     "metadata": {},
     "output_type": "execute_result"
    }
   ],
   "source": [
    "from scipy import stats\n",
    "\n",
    "stats.ttest_ind(males['trestbps'], females['trestbps'], equal_var=False)"
   ]
  },
  {
   "cell_type": "markdown",
   "id": "a79ce628",
   "metadata": {},
   "source": [
    "### Power and Error Likelihood Review\n",
    "\n",
    "At alpha of 0.05 / the 95% confidence interval, there is a 5% chance of a Type I error (we reject the null hypothesis and erroneously state that the study found significant differences when there indeed was no difference).\n",
    "\n",
    "At power = 80%, there is a 20% chance of a Type II error (we declare no differences or associations between study groups when, in fact, there was).\n",
    "\n",
    "However after calculating the T statistic above, we see that at alpha = 0.05, there is **no** statistically significant difference between males and females' average initial blood pressure.  We would **fail to reject** the NULL hypothesis, but at 80% power, there would be a 20% chance we did this in error.  \n",
    "\n",
    "\n",
    "#### Significance in Medicine\n",
    "\n",
    "In medicine, alpha of 0.05 may not provide enough certainty of true efficacy or a true difference between groups.  We don't want to reject the null unless we have solid evidence.  If we chose an alpha of 0.01 we would then have only a 1% chance of rejecting NULL in error, and if we selected alpha of 0.001, then, we would have a .1% chance of Type I error.\n"
   ]
  },
  {
   "cell_type": "markdown",
   "id": "da79563b",
   "metadata": {},
   "source": [
    "## One-way ANOVA\n",
    "\n",
    "ANOVA stands for \"Analysis of Variance\" and is an omnibus test, meaning it tests for a difference overall between all groups. \n",
    "\n",
    "The one-way ANOVA, also referred to as one factor ANOVA, is a parametric test used to test for a statistically significant difference of an outcome between 3 or more groups. \n",
    "\n",
    "Since it is an omnibus test, it tests for a difference overall, i.e. at least one of the groups is statistically significantly different than the others. However, if the ANOVA is significant one cannot tell which group is different. In order to tell which group is different, one has to conduct planned or post-hoc comparisons. \n",
    "\n",
    "**As with all parametric tests, there are certain conditions that need to be met in order for the test results to be considered reliable.**\n",
    "\n",
    "The reason why it's called an one-way or one factor ANOVA even though there are 3 or more groups being tested is because those groups are under one categorical variable, such as race or education level, and the name is referring to the number of variables in the analysis and not the number of groups. \n",
    "\n",
    "Just as we did above for the t test, we'll perform all the steps necessary to conduct the right test and interpret the result correctly:\n",
    "\n",
    "1. Calculate power\n",
    "2. Set the significance level (alpha)\n",
    "3. State the null and alternative hypotheses\n",
    "4. **Ensure the data meets the test requirements (new)**\n",
    "5. Conduct the correct test"
   ]
  },
  {
   "cell_type": "code",
   "execution_count": 43,
   "id": "4a49e8fb",
   "metadata": {},
   "outputs": [
    {
     "data": {
      "text/plain": [
       "age_group\n",
       "1     55\n",
       "2    157\n",
       "3     91\n",
       "Name: age, dtype: int64"
      ]
     },
     "execution_count": 43,
     "metadata": {},
     "output_type": "execute_result"
    }
   ],
   "source": [
    "heart.groupby('age_group').count()['age']"
   ]
  },
  {
   "cell_type": "code",
   "execution_count": 44,
   "id": "10f39018",
   "metadata": {},
   "outputs": [
    {
     "name": "stdout",
     "output_type": "stream",
     "text": [
      "Power: 1.000\n"
     ]
    }
   ],
   "source": [
    "# Calculate power\n",
    "from statsmodels.stats.power import FTestAnovaPower\n",
    "\n",
    "# perform power analysis\n",
    "analysis = FTestAnovaPower()\n",
    "\n",
    "n_test = analysis.solve_power(nobs=55, effect_size = 0.8,\n",
    "                           power = None, alpha = 0.05)\n",
    "print('Power: {:.3f}'.format(n_test))"
   ]
  },
  {
   "cell_type": "markdown",
   "id": "fa8281e9",
   "metadata": {},
   "source": [
    "The power is good; let's set alpha to 0.05 again.\n",
    "\n",
    "#### The NULL hypothesis:\n",
    "\n",
    "There is no difference in mean initial blood pressure between age groups.\n",
    "\n",
    "#### The ALTERNATIVE hypothesis:\n",
    "\n",
    "At least one of the three age groups is significantly different in average mean initial blood pressure.\n",
    "\n",
    "Ensure the data means ANOVA requirements:\n",
    "\n",
    "1. Independence\n",
    "2. Normality\n",
    "3. Homogeneity of Variance\n",
    "\n",
    "We know the test of independence is met, so we'll move on to the other two."
   ]
  },
  {
   "cell_type": "code",
   "execution_count": 46,
   "id": "4aaaea0b",
   "metadata": {},
   "outputs": [
    {
     "data": {
      "text/plain": [
       "array([<Axes: title={'center': 'trestbps'}>], dtype=object)"
      ]
     },
     "execution_count": 46,
     "metadata": {},
     "output_type": "execute_result"
    },
    {
     "data": {
      "image/png": "[encoded data removed]",
      "text/plain": [
       "<Figure size 1200x1000 with 3 Axes>"
      ]
     },
     "metadata": {},
     "output_type": "display_data"
    }
   ],
   "source": [
    "fig, axes = plt.subplots(1, 3)\n",
    "\n",
    "heart[heart['age_group']==1].hist('trestbps', bins=10, ax=axes[0])\n",
    "heart[heart['age_group']==2].hist('trestbps', bins=10, ax=axes[1])\n",
    "heart[heart['age_group']==3].hist('trestbps', bins=10, ax=axes[2])"
   ]
  },
  {
   "cell_type": "code",
   "execution_count": 48,
   "id": "e3f6da4b",
   "metadata": {},
   "outputs": [],
   "source": [
    "heart['age_group'] = pd.Categorical(heart['age_group'])"
   ]
  },
  {
   "cell_type": "code",
   "execution_count": 49,
   "id": "fec96280",
   "metadata": {},
   "outputs": [
    {
     "data": {
      "text/html": [
       "<div>\n",
       "<style scoped>\n",
       "    .dataframe tbody tr th:only-of-type {\n",
       "        vertical-align: middle;\n",
       "    }\n",
       "\n",
       "    .dataframe tbody tr th {\n",
       "        vertical-align: top;\n",
       "    }\n",
       "\n",
       "    .dataframe thead th {\n",
       "        text-align: right;\n",
       "    }\n",
       "</style>\n",
       "<table border=\"1\" class=\"dataframe\">\n",
       "  <thead>\n",
       "    <tr style=\"text-align: right;\">\n",
       "      <th></th>\n",
       "      <th>sum_sq</th>\n",
       "      <th>df</th>\n",
       "      <th>F</th>\n",
       "      <th>PR(&gt;F)</th>\n",
       "    </tr>\n",
       "  </thead>\n",
       "  <tbody>\n",
       "    <tr>\n",
       "      <th>C(age_group)</th>\n",
       "      <td>5449.385276</td>\n",
       "      <td>2.0</td>\n",
       "      <td>9.27866</td>\n",
       "      <td>0.000123</td>\n",
       "    </tr>\n",
       "    <tr>\n",
       "      <th>Residual</th>\n",
       "      <td>88095.453008</td>\n",
       "      <td>300.0</td>\n",
       "      <td>NaN</td>\n",
       "      <td>NaN</td>\n",
       "    </tr>\n",
       "  </tbody>\n",
       "</table>\n",
       "</div>"
      ],
      "text/plain": [
       "                    sum_sq     df        F    PR(>F)\n",
       "C(age_group)   5449.385276    2.0  9.27866  0.000123\n",
       "Residual      88095.453008  300.0      NaN       NaN"
      ]
     },
     "execution_count": 49,
     "metadata": {},
     "output_type": "execute_result"
    }
   ],
   "source": [
    "import statsmodels.api as sm\n",
    "from statsmodels.formula.api import ols\n",
    "\n",
    "model = ols('trestbps ~ C(age_group)', data=heart).fit()\n",
    "aov_table = sm.stats.anova_lm(model, typ=2)\n",
    "aov_table"
   ]
  },
  {
   "cell_type": "markdown",
   "id": "bebd7c7e",
   "metadata": {},
   "source": [
    "This table provides all the information we need in order to reject the null hypothesis and conclude that one of the group means is significantly different from the others; however, it does not provide any effect size measures to tell us if the statistical significance is meaningful. \n",
    "\n",
    "The function below calculates eta-squared and omega-squared, where eta-squared is the same as R-squared but is considered a better measure of effect size because it is unbiased and calculation accounts for the # of degrees of freedom in the model."
   ]
  },
  {
   "cell_type": "code",
   "execution_count": 50,
   "id": "d74bc131",
   "metadata": {},
   "outputs": [
    {
     "data": {
      "text/html": [
       "<div>\n",
       "<style scoped>\n",
       "    .dataframe tbody tr th:only-of-type {\n",
       "        vertical-align: middle;\n",
       "    }\n",
       "\n",
       "    .dataframe tbody tr th {\n",
       "        vertical-align: top;\n",
       "    }\n",
       "\n",
       "    .dataframe thead th {\n",
       "        text-align: right;\n",
       "    }\n",
       "</style>\n",
       "<table border=\"1\" class=\"dataframe\">\n",
       "  <thead>\n",
       "    <tr style=\"text-align: right;\">\n",
       "      <th></th>\n",
       "      <th>sum_sq</th>\n",
       "      <th>df</th>\n",
       "      <th>mean_sq</th>\n",
       "      <th>F</th>\n",
       "      <th>PR(&gt;F)</th>\n",
       "      <th>eta_sq</th>\n",
       "      <th>omega_sq</th>\n",
       "    </tr>\n",
       "  </thead>\n",
       "  <tbody>\n",
       "    <tr>\n",
       "      <th>C(age_group)</th>\n",
       "      <td>5449.385276</td>\n",
       "      <td>2.0</td>\n",
       "      <td>2724.692638</td>\n",
       "      <td>9.27866</td>\n",
       "      <td>0.000123</td>\n",
       "      <td>0.058254</td>\n",
       "      <td>0.051813</td>\n",
       "    </tr>\n",
       "    <tr>\n",
       "      <th>Residual</th>\n",
       "      <td>88095.453008</td>\n",
       "      <td>300.0</td>\n",
       "      <td>293.651510</td>\n",
       "      <td>NaN</td>\n",
       "      <td>NaN</td>\n",
       "      <td>NaN</td>\n",
       "      <td>NaN</td>\n",
       "    </tr>\n",
       "  </tbody>\n",
       "</table>\n",
       "</div>"
      ],
      "text/plain": [
       "                    sum_sq     df      mean_sq        F    PR(>F)    eta_sq  \\\n",
       "C(age_group)   5449.385276    2.0  2724.692638  9.27866  0.000123  0.058254   \n",
       "Residual      88095.453008  300.0   293.651510      NaN       NaN       NaN   \n",
       "\n",
       "              omega_sq  \n",
       "C(age_group)  0.051813  \n",
       "Residual           NaN  "
      ]
     },
     "execution_count": 50,
     "metadata": {},
     "output_type": "execute_result"
    }
   ],
   "source": [
    "def anova_table(aov):\n",
    "    aov['mean_sq'] = aov[:]['sum_sq']/aov[:]['df']\n",
    "\n",
    "    aov['eta_sq'] = aov[:-1]['sum_sq']/sum(aov['sum_sq'])\n",
    "\n",
    "    aov['omega_sq'] = (aov[:-1]['sum_sq']-(aov[:-1]['df']*aov['mean_sq'][-1]))/(sum(aov['sum_sq'])+aov['mean_sq'][-1])\n",
    "\n",
    "    cols = ['sum_sq', 'df', 'mean_sq', 'F', 'PR(>F)', 'eta_sq', 'omega_sq']\n",
    "    aov = aov[cols]\n",
    "    return aov\n",
    "\n",
    "anova_table(aov_table)"
   ]
  },
  {
   "cell_type": "markdown",
   "id": "6325985a",
   "metadata": {},
   "source": [
    "This isn't a very large effect size: eta-squared is only 0.06, indicating that age group accounts for 6% of the variation in initial blood pressure.\n",
    "\n",
    "Now, let's ensure we are meeting test requirements by testing for normality and homogeneity of variance."
   ]
  },
  {
   "cell_type": "code",
   "execution_count": 51,
   "id": "076a8a3e",
   "metadata": {},
   "outputs": [
    {
     "data": {
      "text/plain": [
       "ShapiroResult(statistic=0.9742816686630249, pvalue=2.967475666082464e-05)"
      ]
     },
     "execution_count": 51,
     "metadata": {},
     "output_type": "execute_result"
    }
   ],
   "source": [
    "# Test for normality\n",
    "\n",
    "import scipy.stats as stats\n",
    "\n",
    "stats.shapiro(model.resid)"
   ]
  },
  {
   "cell_type": "markdown",
   "id": "86f72a8b",
   "metadata": {},
   "source": [
    "The p-value for the Shapiro test is insignificant, indicating that there is normality.\n",
    "\n",
    "Now, we'll use the Levene test to ensure variances are similar:"
   ]
  },
  {
   "cell_type": "code",
   "execution_count": 52,
   "id": "219c2548",
   "metadata": {},
   "outputs": [
    {
     "data": {
      "text/plain": [
       "LeveneResult(statistic=2.958316704142245, pvalue=0.053422538630848476)"
      ]
     },
     "execution_count": 52,
     "metadata": {},
     "output_type": "execute_result"
    }
   ],
   "source": [
    "stats.levene(heart['trestbps'][heart['age_group'] == 1],\n",
    "             heart['trestbps'][heart['age_group'] == 2],\n",
    "             heart['trestbps'][heart['age_group'] == 3])"
   ]
  },
  {
   "cell_type": "markdown",
   "id": "30da565d",
   "metadata": {},
   "source": [
    "This just barely passes Levene at alpha = 0.05. \n",
    "\n",
    "Let's visualize the data:\n",
    " "
   ]
  },
  {
   "cell_type": "code",
   "execution_count": 53,
   "id": "31dc5cbd",
   "metadata": {},
   "outputs": [
    {
     "data": {
      "image/png": "[encoded data removed]",
      "text/plain": [
       "<Figure size 1000x1000 with 1 Axes>"
      ]
     },
     "metadata": {},
     "output_type": "display_data"
    }
   ],
   "source": [
    "fig = plt.figure(figsize= (10, 10))\n",
    "ax = fig.add_subplot(111)\n",
    "\n",
    "ax.set_title(\"Box Plot of Initial BP by Age Group\", fontsize= 20)\n",
    "ax.set\n",
    "\n",
    "data = [heart['trestbps'][heart['age_group'] == 1],\n",
    "        heart['trestbps'][heart['age_group'] == 2],\n",
    "        heart['trestbps'][heart['age_group'] == 3]]\n",
    "\n",
    "ax.boxplot(data,\n",
    "           labels= ['<45', '45-59', '60+'],\n",
    "           showmeans= True)\n",
    "\n",
    "plt.xlabel(\"Blood Pressure\")\n",
    "plt.ylabel(\"Age Group\")\n",
    "\n",
    "plt.show()"
   ]
  },
  {
   "cell_type": "code",
   "execution_count": null,
   "id": "861a6888",
   "metadata": {},
   "outputs": [],
   "source": []
  }
 ],
 "metadata": {
  "kernelspec": {
   "display_name": "Python 3 (ipykernel)",
   "language": "python",
   "name": "python3"
  },
  "language_info": {
   "codemirror_mode": {
    "name": "ipython",
    "version": 3
   },
   "file_extension": ".py",
   "mimetype": "text/x-python",
   "name": "python",
   "nbconvert_exporter": "python",
   "pygments_lexer": "ipython3",
   "version": "3.11.3"
  }
 },
 "nbformat": 4,
 "nbformat_minor": 5
}
